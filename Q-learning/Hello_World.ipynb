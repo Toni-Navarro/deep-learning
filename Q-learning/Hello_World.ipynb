{
  "nbformat": 4,
  "nbformat_minor": 0,
  "metadata": {
    "colab": {
      "name": "Untitled",
      "provenance": [],
      "authorship_tag": "ABX9TyNBmrAn5UiTEB2meRNW3nhW",
      "include_colab_link": true
    },
    "kernelspec": {
      "name": "python3",
      "display_name": "Python 3"
    }
  },
  "cells": [
    {
      "cell_type": "markdown",
      "metadata": {
        "id": "view-in-github",
        "colab_type": "text"
      },
      "source": [
        "<a href=\"https://colab.research.google.com/github/Toni-Navarro/deep-learning/blob/master/Q-learning/Hello_World.ipynb\" target=\"_parent\"><img src=\"https://colab.research.google.com/assets/colab-badge.svg\" alt=\"Open In Colab\"/></a>"
      ]
    },
    {
      "cell_type": "markdown",
      "metadata": {
        "id": "aKqC7RYgcu1I",
        "colab_type": "text"
      },
      "source": [
        "\n",
        "#Game design\n",
        "\n",
        "The game the Q-agents will need to learn is made of a board with 4 cells. The agent will receive a +1 reward every time it fills a vacant cell, and will receive a -1 penalty when it tries to fill an already filled cell. Game ends when the board is full.\n"
      ]
    },
    {
      "cell_type": "markdown",
      "metadata": {
        "id": "PtW8c9O1BKM6",
        "colab_type": "text"
      },
      "source": [
        "[\n",
        "Q Learning & Deep Q Network Examples](https://github.com/shakedzy/notebooks/blob/master/q_learning_and_dqn/Q%20Learning%20and%20Deep%20Q%20Network.ipynb)"
      ]
    },
    {
      "cell_type": "code",
      "metadata": {
        "id": "99Ifblu_c9cB",
        "colab_type": "code",
        "outputId": "26ad6bca-355c-4182-b8e8-15b7168c0d17",
        "colab": {
          "base_uri": "https://localhost:8080/",
          "height": 35
        }
      },
      "source": [
        "%tensorflow_version 2.x"
      ],
      "execution_count": 0,
      "outputs": [
        {
          "output_type": "stream",
          "text": [
            "TensorFlow 2.x selected.\n"
          ],
          "name": "stdout"
        }
      ]
    },
    {
      "cell_type": "code",
      "metadata": {
        "id": "-vGTNjwaczW7",
        "colab_type": "code",
        "outputId": "dc27ebe7-87cf-4043-d41b-615d6017ec46",
        "colab": {
          "base_uri": "https://localhost:8080/",
          "height": 65
        }
      },
      "source": [
        "import random\n",
        "import numpy as np\n",
        "import pandas as pd\n",
        "import tensorflow as tf\n",
        "import matplotlib.pyplot as plt\n",
        "from collections import deque\n",
        "from time import time"
      ],
      "execution_count": 0,
      "outputs": [
        {
          "output_type": "display_data",
          "data": {
            "text/html": [
              "<p style=\"color: red;\">\n",
              "The default version of TensorFlow in Colab will soon switch to TensorFlow 2.x.<br>\n",
              "We recommend you <a href=\"https://www.tensorflow.org/guide/migrate\" target=\"_blank\">upgrade</a> now \n",
              "or ensure your notebook will continue to use TensorFlow 1.x via the <code>%tensorflow_version 1.x</code> magic:\n",
              "<a href=\"https://colab.research.google.com/notebooks/tensorflow_version.ipynb\" target=\"_blank\">more info</a>.</p>\n"
            ],
            "text/plain": [
              "<IPython.core.display.HTML object>"
            ]
          },
          "metadata": {
            "tags": []
          }
        }
      ]
    },
    {
      "cell_type": "code",
      "metadata": {
        "id": "wUOdXOa6hH8V",
        "colab_type": "code",
        "outputId": "d7c1d1f9-a3f8-4c49-ed17-fd862a1a6dcf",
        "colab": {
          "base_uri": "https://localhost:8080/",
          "height": 35
        }
      },
      "source": [
        "seed = 1546847731  # or try a new seed by using: seed = int(time())\n",
        "random.seed(seed)\n",
        "print('Seed: {}'.format(seed))"
      ],
      "execution_count": 0,
      "outputs": [
        {
          "output_type": "stream",
          "text": [
            "Seed: 1546847731\n"
          ],
          "name": "stdout"
        }
      ]
    },
    {
      "cell_type": "code",
      "metadata": {
        "id": "gHyjyYZFc2AD",
        "colab_type": "code",
        "colab": {}
      },
      "source": [
        "class Game:\n",
        "    board = None\n",
        "    board_size = 0\n",
        "    \n",
        "    def __init__(self, board_size=4):\n",
        "        self.board_size = board_size\n",
        "        self.reset()\n",
        "    \n",
        "    def reset(self):\n",
        "        self.board = np.zeros(self.board_size)\n",
        "    \n",
        "    def play(self, cell):\n",
        "        # returns a tuple: (reward, game_over?)\n",
        "        if self.board[cell] == 0:\n",
        "            self.board[cell] = 1\n",
        "            game_over = len(np.where(self.board == 0)[0]) == 0\n",
        "            return (1,game_over)\n",
        "        else:\n",
        "            return (-1,False)"
      ],
      "execution_count": 0,
      "outputs": []
    },
    {
      "cell_type": "code",
      "metadata": {
        "id": "dki_bRXadh37",
        "colab_type": "code",
        "outputId": "ca6ad48a-960c-4fb4-d20f-4ec1b1e02bac",
        "colab": {
          "base_uri": "https://localhost:8080/",
          "height": 326
        }
      },
      "source": [
        "def state_to_str(state):\n",
        "    return str(list(map(int,state.tolist())))\n",
        "\n",
        "all_states = list()\n",
        "for i in range(2):\n",
        "    for j in range(2):\n",
        "        for k in range(2):\n",
        "            for l in range(2):\n",
        "                s = np.array([i,j,k,l])\n",
        "                all_states.append(state_to_str(s))\n",
        "                \n",
        "print('All possible states:')\n",
        "for s in all_states:\n",
        "    print(s)"
      ],
      "execution_count": 0,
      "outputs": [
        {
          "output_type": "stream",
          "text": [
            "All possible states:\n",
            "[0, 0, 0, 0]\n",
            "[0, 0, 0, 1]\n",
            "[0, 0, 1, 0]\n",
            "[0, 0, 1, 1]\n",
            "[0, 1, 0, 0]\n",
            "[0, 1, 0, 1]\n",
            "[0, 1, 1, 0]\n",
            "[0, 1, 1, 1]\n",
            "[1, 0, 0, 0]\n",
            "[1, 0, 0, 1]\n",
            "[1, 0, 1, 0]\n",
            "[1, 0, 1, 1]\n",
            "[1, 1, 0, 0]\n",
            "[1, 1, 0, 1]\n",
            "[1, 1, 1, 0]\n",
            "[1, 1, 1, 1]\n"
          ],
          "name": "stdout"
        }
      ]
    },
    {
      "cell_type": "code",
      "metadata": {
        "id": "Xa07Y9C-dkZ-",
        "colab_type": "code",
        "colab": {}
      },
      "source": [
        "game = Game()"
      ],
      "execution_count": 0,
      "outputs": []
    },
    {
      "cell_type": "code",
      "metadata": {
        "id": "1OaQoqXDd1rS",
        "colab_type": "code",
        "colab": {}
      },
      "source": [
        "num_of_games = 2000\n",
        "epsilon = 0.1\n",
        "gamma = 1"
      ],
      "execution_count": 0,
      "outputs": []
    },
    {
      "cell_type": "code",
      "metadata": {
        "id": "VxeWrU5dd4ia",
        "colab_type": "code",
        "colab": {}
      },
      "source": [
        "q_table = pd.DataFrame(0, index=np.arange(4), columns=all_states)"
      ],
      "execution_count": 0,
      "outputs": []
    },
    {
      "cell_type": "code",
      "metadata": {
        "id": "-iMs2sHZeBIJ",
        "colab_type": "code",
        "outputId": "049fc71d-3c31-452f-9cde-30896e311630",
        "colab": {
          "base_uri": "https://localhost:8080/",
          "height": 144
        }
      },
      "source": [
        "print(q_table)"
      ],
      "execution_count": 0,
      "outputs": [
        {
          "output_type": "stream",
          "text": [
            "   [0, 0, 0, 0]  [0, 0, 0, 1]  ...  [1, 1, 1, 0]  [1, 1, 1, 1]\n",
            "0             0             0  ...             0             0\n",
            "1             0             0  ...             0             0\n",
            "2             0             0  ...             0             0\n",
            "3             0             0  ...             0             0\n",
            "\n",
            "[4 rows x 16 columns]\n"
          ],
          "name": "stdout"
        }
      ]
    },
    {
      "cell_type": "code",
      "metadata": {
        "id": "EExFfiH7eDJM",
        "colab_type": "code",
        "outputId": "057fc8a0-eaf4-4c3e-d229-17891ccd4520",
        "colab": {
          "base_uri": "https://localhost:8080/",
          "height": 192
        }
      },
      "source": [
        "r_list = []  # store the total reward of each game so we can plot it later\n",
        "\n",
        "for g in range(num_of_games):\n",
        "    game_over = False\n",
        "    game.reset()\n",
        "    total_reward = 0\n",
        "    while not game_over:\n",
        "        state = np.copy(game.board)\n",
        "        if random.random() < epsilon:\n",
        "            action = random.randint(0,3)\n",
        "        else:\n",
        "            action = q_table[state_to_str(state)].idxmax()\n",
        "        reward, game_over = game.play(action)\n",
        "        total_reward += reward\n",
        "        if np.sum(game.board) == 4:  # terminal state\n",
        "            next_state_max_q_value = 0\n",
        "        else:\n",
        "            next_state = np.copy(game.board)\n",
        "            next_state_max_q_value = q_table[state_to_str(next_state)].max()\n",
        "        q_table.loc[action,state_to_str(state)] = reward + gamma * next_state_max_q_value\n",
        "    r_list.append(total_reward)\n",
        "q_table"
      ],
      "execution_count": 0,
      "outputs": [
        {
          "output_type": "execute_result",
          "data": {
            "text/html": [
              "<div>\n",
              "<style scoped>\n",
              "    .dataframe tbody tr th:only-of-type {\n",
              "        vertical-align: middle;\n",
              "    }\n",
              "\n",
              "    .dataframe tbody tr th {\n",
              "        vertical-align: top;\n",
              "    }\n",
              "\n",
              "    .dataframe thead th {\n",
              "        text-align: right;\n",
              "    }\n",
              "</style>\n",
              "<table border=\"1\" class=\"dataframe\">\n",
              "  <thead>\n",
              "    <tr style=\"text-align: right;\">\n",
              "      <th></th>\n",
              "      <th>[0, 0, 0, 0]</th>\n",
              "      <th>[0, 0, 0, 1]</th>\n",
              "      <th>[0, 0, 1, 0]</th>\n",
              "      <th>[0, 0, 1, 1]</th>\n",
              "      <th>[0, 1, 0, 0]</th>\n",
              "      <th>[0, 1, 0, 1]</th>\n",
              "      <th>[0, 1, 1, 0]</th>\n",
              "      <th>[0, 1, 1, 1]</th>\n",
              "      <th>[1, 0, 0, 0]</th>\n",
              "      <th>[1, 0, 0, 1]</th>\n",
              "      <th>[1, 0, 1, 0]</th>\n",
              "      <th>[1, 0, 1, 1]</th>\n",
              "      <th>[1, 1, 0, 0]</th>\n",
              "      <th>[1, 1, 0, 1]</th>\n",
              "      <th>[1, 1, 1, 0]</th>\n",
              "      <th>[1, 1, 1, 1]</th>\n",
              "    </tr>\n",
              "  </thead>\n",
              "  <tbody>\n",
              "    <tr>\n",
              "      <th>0</th>\n",
              "      <td>4</td>\n",
              "      <td>3</td>\n",
              "      <td>3</td>\n",
              "      <td>2</td>\n",
              "      <td>3</td>\n",
              "      <td>2</td>\n",
              "      <td>2</td>\n",
              "      <td>0</td>\n",
              "      <td>2</td>\n",
              "      <td>1</td>\n",
              "      <td>1</td>\n",
              "      <td>-1</td>\n",
              "      <td>1</td>\n",
              "      <td>0</td>\n",
              "      <td>0</td>\n",
              "      <td>0</td>\n",
              "    </tr>\n",
              "    <tr>\n",
              "      <th>1</th>\n",
              "      <td>4</td>\n",
              "      <td>1</td>\n",
              "      <td>0</td>\n",
              "      <td>0</td>\n",
              "      <td>0</td>\n",
              "      <td>0</td>\n",
              "      <td>0</td>\n",
              "      <td>0</td>\n",
              "      <td>3</td>\n",
              "      <td>2</td>\n",
              "      <td>2</td>\n",
              "      <td>1</td>\n",
              "      <td>1</td>\n",
              "      <td>0</td>\n",
              "      <td>0</td>\n",
              "      <td>0</td>\n",
              "    </tr>\n",
              "    <tr>\n",
              "      <th>2</th>\n",
              "      <td>4</td>\n",
              "      <td>3</td>\n",
              "      <td>2</td>\n",
              "      <td>0</td>\n",
              "      <td>3</td>\n",
              "      <td>0</td>\n",
              "      <td>-1</td>\n",
              "      <td>0</td>\n",
              "      <td>3</td>\n",
              "      <td>2</td>\n",
              "      <td>1</td>\n",
              "      <td>0</td>\n",
              "      <td>2</td>\n",
              "      <td>1</td>\n",
              "      <td>0</td>\n",
              "      <td>0</td>\n",
              "    </tr>\n",
              "    <tr>\n",
              "      <th>3</th>\n",
              "      <td>4</td>\n",
              "      <td>2</td>\n",
              "      <td>3</td>\n",
              "      <td>0</td>\n",
              "      <td>0</td>\n",
              "      <td>0</td>\n",
              "      <td>0</td>\n",
              "      <td>0</td>\n",
              "      <td>3</td>\n",
              "      <td>0</td>\n",
              "      <td>2</td>\n",
              "      <td>0</td>\n",
              "      <td>2</td>\n",
              "      <td>0</td>\n",
              "      <td>1</td>\n",
              "      <td>0</td>\n",
              "    </tr>\n",
              "  </tbody>\n",
              "</table>\n",
              "</div>"
            ],
            "text/plain": [
              "   [0, 0, 0, 0]  [0, 0, 0, 1]  ...  [1, 1, 1, 0]  [1, 1, 1, 1]\n",
              "0             4             3  ...             0             0\n",
              "1             4             1  ...             0             0\n",
              "2             4             3  ...             0             0\n",
              "3             4             2  ...             1             0\n",
              "\n",
              "[4 rows x 16 columns]"
            ]
          },
          "metadata": {
            "tags": []
          },
          "execution_count": 9
        }
      ]
    },
    {
      "cell_type": "code",
      "metadata": {
        "id": "7wnHhpd8eVlu",
        "colab_type": "code",
        "outputId": "e175f999-5c42-4732-9ee0-c4a435c13e5a",
        "colab": {
          "base_uri": "https://localhost:8080/",
          "height": 290
        }
      },
      "source": [
        "for i in range(2):\n",
        "    for j in range(2):\n",
        "        for k in range(2):\n",
        "            for l in range(2):\n",
        "                b = np.array([i,j,k,l])\n",
        "                if len(np.where(b == 0)[0]) != 0:\n",
        "                    action = q_table[state_to_str(b)].idxmax()\n",
        "                    pred = q_table[state_to_str(b)].tolist()\n",
        "                    print('board: {b}\\tpredicted Q values: {p} \\tbest action: {a}\\tcorrect action? {s}'\n",
        "                          .format(b=b,p=pred,a=action,s=b[action]==0))"
      ],
      "execution_count": 0,
      "outputs": [
        {
          "output_type": "stream",
          "text": [
            "board: [0 0 0 0]\tpredicted Q values: [4, 4, 4, 4] \tbest action: 0\tcorrect action? True\n",
            "board: [0 0 0 1]\tpredicted Q values: [3, 1, 3, 2] \tbest action: 0\tcorrect action? True\n",
            "board: [0 0 1 0]\tpredicted Q values: [3, 0, 2, 3] \tbest action: 0\tcorrect action? True\n",
            "board: [0 0 1 1]\tpredicted Q values: [2, 0, 0, 0] \tbest action: 0\tcorrect action? True\n",
            "board: [0 1 0 0]\tpredicted Q values: [3, 0, 3, 0] \tbest action: 0\tcorrect action? True\n",
            "board: [0 1 0 1]\tpredicted Q values: [2, 0, 0, 0] \tbest action: 0\tcorrect action? True\n",
            "board: [0 1 1 0]\tpredicted Q values: [2, 0, -1, 0] \tbest action: 0\tcorrect action? True\n",
            "board: [0 1 1 1]\tpredicted Q values: [0, 0, 0, 0] \tbest action: 0\tcorrect action? True\n",
            "board: [1 0 0 0]\tpredicted Q values: [2, 3, 3, 3] \tbest action: 1\tcorrect action? True\n",
            "board: [1 0 0 1]\tpredicted Q values: [1, 2, 2, 0] \tbest action: 1\tcorrect action? True\n",
            "board: [1 0 1 0]\tpredicted Q values: [1, 2, 1, 2] \tbest action: 1\tcorrect action? True\n",
            "board: [1 0 1 1]\tpredicted Q values: [-1, 1, 0, 0] \tbest action: 1\tcorrect action? True\n",
            "board: [1 1 0 0]\tpredicted Q values: [1, 1, 2, 2] \tbest action: 2\tcorrect action? True\n",
            "board: [1 1 0 1]\tpredicted Q values: [0, 0, 1, 0] \tbest action: 2\tcorrect action? True\n",
            "board: [1 1 1 0]\tpredicted Q values: [0, 0, 0, 1] \tbest action: 3\tcorrect action? True\n"
          ],
          "name": "stdout"
        }
      ]
    },
    {
      "cell_type": "code",
      "metadata": {
        "id": "mmkIbkQnfN5U",
        "colab_type": "code",
        "outputId": "bc787305-ea67-43ee-b796-b204fbc0090d",
        "colab": {
          "base_uri": "https://localhost:8080/",
          "height": 442
        }
      },
      "source": [
        "plt.figure(figsize=(14,7))\n",
        "plt.plot(range(len(r_list)),r_list)\n",
        "plt.xlabel('Games played')\n",
        "plt.ylabel('Reward')\n",
        "plt.show()"
      ],
      "execution_count": 0,
      "outputs": [
        {
          "output_type": "display_data",
          "data": {
            "image/png": "[encoded data removed]",
            "text/plain": [
              "<Figure size 1008x504 with 1 Axes>"
            ]
          },
          "metadata": {
            "tags": []
          }
        }
      ]
    },
    {
      "cell_type": "markdown",
      "metadata": {
        "id": "fJNIF3iUgG7u",
        "colab_type": "text"
      },
      "source": [
        "#Deep Q Network"
      ]
    },
    {
      "cell_type": "code",
      "metadata": {
        "id": "RmKP7awffwzi",
        "colab_type": "code",
        "colab": {}
      },
      "source": [
        "class QNetwork:\n",
        "    def __init__(self, hidden_layers_size, gamma, learning_rate, input_size=4, output_size=4):\n",
        "        self.q_target = tf.placeholder(shape=(None,output_size), dtype=tf.float32)\n",
        "        self.r = tf.placeholder(shape=None,dtype=tf.float32)\n",
        "        self.states = tf.placeholder(shape=(None, input_size), dtype=tf.float32)\n",
        "        self.enum_actions = tf.placeholder(shape=(None,2), dtype=tf.int32) \n",
        "        layer = self.states\n",
        "        for l in hidden_layers_size:\n",
        "            layer = tf.layers.dense(inputs=layer, units=l, activation=tf.nn.relu,\n",
        "                                    kernel_initializer=tf.contrib.layers.xavier_initializer(seed=seed))\n",
        "        self.output = tf.layers.dense(inputs=layer, units=output_size,\n",
        "                                      kernel_initializer=tf.contrib.layers.xavier_initializer(seed=seed))\n",
        "        self.predictions = tf.gather_nd(self.output,indices=self.enum_actions)\n",
        "        self.labels = self.r + gamma * tf.reduce_max(self.q_target, axis=1)\n",
        "        self.cost = tf.reduce_mean(tf.losses.mean_squared_error(labels=self.labels, predictions=self.predictions))\n",
        "        self.optimizer = tf.train.GradientDescentOptimizer(learning_rate=learning_rate).minimize(self.cost)"
      ],
      "execution_count": 0,
      "outputs": []
    },
    {
      "cell_type": "code",
      "metadata": {
        "id": "XcptfikggKx5",
        "colab_type": "code",
        "colab": {}
      },
      "source": [
        "class ReplayMemory:\n",
        "    memory = None\n",
        "    counter = 0\n",
        "\n",
        "    def __init__(self, size):\n",
        "        self.memory = deque(maxlen=size)\n",
        "\n",
        "    def append(self, element):\n",
        "        self.memory.append(element)\n",
        "        self.counter += 1\n",
        "\n",
        "    def sample(self, n):\n",
        "        return random.sample(self.memory, n)"
      ],
      "execution_count": 0,
      "outputs": []
    },
    {
      "cell_type": "code",
      "metadata": {
        "id": "t8exDdN0gNJr",
        "colab_type": "code",
        "colab": {}
      },
      "source": [
        "num_of_games = 2000\n",
        "epsilon = 0.1\n",
        "gamma = 0.99\n",
        "batch_size = 10\n",
        "memory_size = 2000"
      ],
      "execution_count": 0,
      "outputs": []
    },
    {
      "cell_type": "code",
      "metadata": {
        "colab_type": "code",
        "id": "TypA17iGiAb6",
        "colab": {}
      },
      "source": [
        "from tensorflow.python.framework import ops\n",
        "ops.reset_default_graph()"
      ],
      "execution_count": 0,
      "outputs": []
    },
    {
      "cell_type": "code",
      "metadata": {
        "id": "cdwTjEUZgPpK",
        "colab_type": "code",
        "outputId": "8bb514e8-d66c-4f4e-88fd-207f8a19c370",
        "colab": {
          "base_uri": "https://localhost:8080/",
          "height": 346
        }
      },
      "source": [
        "tf.reset_default_graph()\n",
        "tf.set_random_seed(seed)\n",
        "qnn = QNetwork(hidden_layers_size=[20,20], gamma=gamma, learning_rate=0.001)\n",
        "memory = ReplayMemory(memory_size)\n",
        "sess = tf.Session()\n",
        "sess.run(tf.global_variables_initializer())"
      ],
      "execution_count": 0,
      "outputs": [
        {
          "output_type": "stream",
          "text": [
            "WARNING:tensorflow:\n",
            "The TensorFlow contrib module will not be included in TensorFlow 2.0.\n",
            "For more information, please see:\n",
            "  * https://github.com/tensorflow/community/blob/master/rfcs/20180907-contrib-sunset.md\n",
            "  * https://github.com/tensorflow/addons\n",
            "  * https://github.com/tensorflow/io (for I/O related ops)\n",
            "If you depend on functionality not listed there, please file an issue.\n",
            "\n",
            "WARNING:tensorflow:From <ipython-input-12-8553becb9b96>:10: dense (from tensorflow.python.layers.core) is deprecated and will be removed in a future version.\n",
            "Instructions for updating:\n",
            "Use keras.layers.Dense instead.\n",
            "WARNING:tensorflow:From /usr/local/lib/python3.6/dist-packages/tensorflow_core/python/layers/core.py:187: Layer.apply (from tensorflow.python.keras.engine.base_layer) is deprecated and will be removed in a future version.\n",
            "Instructions for updating:\n",
            "Please use `layer.__call__` method instead.\n",
            "WARNING:tensorflow:From /usr/local/lib/python3.6/dist-packages/tensorflow_core/python/ops/losses/losses_impl.py:121: where (from tensorflow.python.ops.array_ops) is deprecated and will be removed in a future version.\n",
            "Instructions for updating:\n",
            "Use tf.where in 2.0, which has the same broadcast rule as np.where\n"
          ],
          "name": "stdout"
        }
      ]
    },
    {
      "cell_type": "code",
      "metadata": {
        "id": "sguKO8V2gR4W",
        "colab_type": "code",
        "colab": {}
      },
      "source": [
        "class ReplayMemory:\n",
        "    memory = None\n",
        "    counter = 0\n",
        "\n",
        "    def __init__(self, size):\n",
        "        self.memory = deque(maxlen=size)\n",
        "\n",
        "    def append(self, element):\n",
        "        self.memory.append(element)\n",
        "        self.counter += 1\n",
        "\n",
        "    def sample(self, n):\n",
        "        return random.sample(self.memory, n)"
      ],
      "execution_count": 0,
      "outputs": []
    },
    {
      "cell_type": "code",
      "metadata": {
        "id": "lmjC-MaIjLP0",
        "colab_type": "code",
        "colab": {}
      },
      "source": [
        "num_of_games = 2000\n",
        "epsilon = 0.1\n",
        "gamma = 0.99\n",
        "batch_size = 10\n",
        "memory_size = 2000"
      ],
      "execution_count": 0,
      "outputs": []
    },
    {
      "cell_type": "code",
      "metadata": {
        "id": "KUrES9NmjOBP",
        "colab_type": "code",
        "colab": {}
      },
      "source": [
        "\n",
        "\n",
        "tf.reset_default_graph()\n",
        "tf.set_random_seed(seed)\n",
        "qnn = QNetwork(hidden_layers_size=[20,20], gamma=gamma, learning_rate=0.001)\n",
        "memory = ReplayMemory(memory_size)\n",
        "sess = tf.Session()\n",
        "sess.run(tf.global_variables_initializer())\n",
        "\n"
      ],
      "execution_count": 0,
      "outputs": []
    },
    {
      "cell_type": "code",
      "metadata": {
        "id": "VdFzqNaIjR57",
        "colab_type": "code",
        "outputId": "f8aae669-7587-425c-99e3-b618b0cf01de",
        "colab": {
          "base_uri": "https://localhost:8080/",
          "height": 35
        }
      },
      "source": [
        "r_list = []  \n",
        "c_list = []  # same as r_list, but for the cost\n",
        "\n",
        "counter = 0  # will be used to trigger network training\n",
        "\n",
        "for g in range(num_of_games):\n",
        "    game_over = False\n",
        "    game.reset()\n",
        "    total_reward = 0\n",
        "    while not game_over:\n",
        "        counter += 1\n",
        "        state = np.copy(game.board)\n",
        "        if random.random() < epsilon:\n",
        "            action = random.randint(0,3)\n",
        "        else:\n",
        "            pred = np.squeeze(sess.run(qnn.output,feed_dict={qnn.states: np.expand_dims(game.board,axis=0)}))\n",
        "            action = np.argmax(pred)\n",
        "        reward, game_over = game.play(action)\n",
        "        total_reward += reward\n",
        "        next_state = np.copy(game.board)\n",
        "        memory.append({'state':state,'action':action,'reward':reward,'next_state':next_state,'game_over':game_over})\n",
        "        if counter % batch_size == 0:\n",
        "            # Network training\n",
        "            batch = memory.sample(batch_size)\n",
        "            q_target = sess.run(qnn.output,feed_dict={qnn.states: np.array(list(map(lambda x: x['next_state'], batch)))})\n",
        "            terminals = np.array(list(map(lambda x: x['game_over'], batch)))\n",
        "            for i in range(terminals.size):\n",
        "                if terminals[i]:\n",
        "                    # Remember we use the network's own predictions for the next state while calculatng loss.\n",
        "                    # Terminal states have no Q-value, and so we manually set them to 0, as the network's predictions\n",
        "                    # for these states is meaningless\n",
        "                    q_target[i] = np.zeros(game.board_size)\n",
        "            _, cost = sess.run([qnn.optimizer, qnn.cost], \n",
        "                               feed_dict={qnn.states: np.array(list(map(lambda x: x['state'], batch))),\n",
        "                               qnn.r: np.array(list(map(lambda x: x['reward'], batch))),\n",
        "                               qnn.enum_actions: np.array(list(enumerate(map(lambda x: x['action'], batch)))),\n",
        "                               qnn.q_target: q_target})\n",
        "            c_list.append(cost)\n",
        "    r_list.append(total_reward)\n",
        "print('Final cost: {}'.format(c_list[-1]))"
      ],
      "execution_count": 0,
      "outputs": [
        {
          "output_type": "stream",
          "text": [
            "Final cost: 1.0163472890853882\n"
          ],
          "name": "stdout"
        }
      ]
    },
    {
      "cell_type": "code",
      "metadata": {
        "id": "oa9gvFANjV1J",
        "colab_type": "code",
        "outputId": "04e47ebc-025d-45d8-85ff-00ecb4fb5675",
        "colab": {
          "base_uri": "https://localhost:8080/",
          "height": 290
        }
      },
      "source": [
        "for i in range(2):\n",
        "    for j in range(2):\n",
        "        for k in range(2):\n",
        "            for l in range(2):\n",
        "                b = np.array([i,j,k,l])\n",
        "                if len(np.where(b == 0)[0]) != 0:\n",
        "                    pred = np.squeeze(sess.run(qnn.output,feed_dict={qnn.states: np.expand_dims(b,axis=0)}))\n",
        "                    pred = list(map(lambda x: round(x,3),pred))\n",
        "                    action = np.argmax(pred)\n",
        "                    print('board: {b}\\tpredicted Q values: {p} \\tbest action: {a}\\tcorrect action? {s}'\n",
        "                          .format(b=b,p=pred,a=action,s=b[action]==0))"
      ],
      "execution_count": 0,
      "outputs": [
        {
          "output_type": "stream",
          "text": [
            "board: [0 0 0 0]\tpredicted Q values: [0.316, 0.036, 0.172, -0.353] \tbest action: 0\tcorrect action? True\n",
            "board: [0 0 0 1]\tpredicted Q values: [-0.343, -0.881, -0.185, -1.364] \tbest action: 2\tcorrect action? True\n",
            "board: [0 0 1 0]\tpredicted Q values: [0.311, 0.753, -0.332, -0.009] \tbest action: 1\tcorrect action? True\n",
            "board: [0 0 1 1]\tpredicted Q values: [0.118, 0.273, -0.558, -0.772] \tbest action: 1\tcorrect action? True\n",
            "board: [0 1 0 0]\tpredicted Q values: [0.458, -0.038, 0.225, -0.068] \tbest action: 0\tcorrect action? True\n",
            "board: [0 1 0 1]\tpredicted Q values: [0.255, -0.866, 0.019, -1.028] \tbest action: 0\tcorrect action? True\n",
            "board: [0 1 1 0]\tpredicted Q values: [0.468, 0.476, 0.15, 0.51] \tbest action: 3\tcorrect action? True\n",
            "board: [0 1 1 1]\tpredicted Q values: [0.892, 0.211, -0.061, -0.08] \tbest action: 0\tcorrect action? True\n",
            "board: [1 0 0 0]\tpredicted Q values: [-0.081, 0.168, 0.48, -0.011] \tbest action: 2\tcorrect action? True\n",
            "board: [1 0 0 1]\tpredicted Q values: [-0.899, -0.586, 0.144, -1.091] \tbest action: 2\tcorrect action? True\n",
            "board: [1 0 1 0]\tpredicted Q values: [0.216, 0.998, -0.183, 0.478] \tbest action: 1\tcorrect action? True\n",
            "board: [1 0 1 1]\tpredicted Q values: [-0.361, 0.518, -0.343, -0.54] \tbest action: 1\tcorrect action? True\n",
            "board: [1 1 0 0]\tpredicted Q values: [0.228, 0.296, 0.505, 0.636] \tbest action: 3\tcorrect action? True\n",
            "board: [1 1 0 1]\tpredicted Q values: [-0.294, -0.521, 0.279, -0.598] \tbest action: 2\tcorrect action? True\n",
            "board: [1 1 1 0]\tpredicted Q values: [0.178, 0.838, 0.155, 1.144] \tbest action: 3\tcorrect action? True\n"
          ],
          "name": "stdout"
        }
      ]
    },
    {
      "cell_type": "code",
      "metadata": {
        "id": "sYtbvA4ijbui",
        "colab_type": "code",
        "outputId": "ffecf01c-30d8-4f6c-d554-d2626bc538f6",
        "colab": {
          "base_uri": "https://localhost:8080/",
          "height": 442
        }
      },
      "source": [
        "plt.figure(figsize=(14,7))\n",
        "plt.plot(range(len(r_list)),r_list)\n",
        "plt.xlabel('Games played')\n",
        "plt.ylabel('Reward')\n",
        "plt.show()"
      ],
      "execution_count": 0,
      "outputs": [
        {
          "output_type": "display_data",
          "data": {
            "image/png": "[encoded data removed]",
            "text/plain": [
              "<Figure size 1008x504 with 1 Axes>"
            ]
          },
          "metadata": {
            "tags": []
          }
        }
      ]
    },
    {
      "cell_type": "code",
      "metadata": {
        "id": "5eT0-D1VjoMw",
        "colab_type": "code",
        "outputId": "6fab1ede-6819-4e5d-cb64-a8db6e56e0f9",
        "colab": {
          "base_uri": "https://localhost:8080/",
          "height": 442
        }
      },
      "source": [
        "plt.figure(figsize=(14,7))\n",
        "plt.plot(range(len(r_list)),r_list)\n",
        "plt.xlabel('Game played')\n",
        "plt.ylabel('Reward')\n",
        "plt.ylim(-2,4.5)\n",
        "plt.show()"
      ],
      "execution_count": 0,
      "outputs": [
        {
          "output_type": "display_data",
          "data": {
            "image/png": "[encoded data removed]",
            "text/plain": [
              "<Figure size 1008x504 with 1 Axes>"
            ]
          },
          "metadata": {
            "tags": []
          }
        }
      ]
    },
    {
      "cell_type": "code",
      "metadata": {
        "id": "0bDYEN3Pjqtb",
        "colab_type": "code",
        "outputId": "084fa76e-1777-48bc-eecb-39c3a411bc2b",
        "colab": {
          "base_uri": "https://localhost:8080/",
          "height": 442
        }
      },
      "source": [
        "plt.figure(figsize=(14,7))\n",
        "plt.plot(range(len(c_list)),c_list)\n",
        "plt.xlabel('Trainings')\n",
        "plt.ylabel('Cost')\n",
        "plt.show()"
      ],
      "execution_count": 0,
      "outputs": [
        {
          "output_type": "display_data",
          "data": {
            "image/png": "[encoded data removed]",
            "text/plain": [
              "<Figure size 1008x504 with 1 Axes>"
            ]
          },
          "metadata": {
            "tags": []
          }
        }
      ]
    },
    {
      "cell_type": "code",
      "metadata": {
        "id": "LVUETbMGjwcw",
        "colab_type": "code",
        "colab": {}
      },
      "source": [
        "sess.close()  # Don't forget to close tf.session"
      ],
      "execution_count": 0,
      "outputs": []
    },
    {
      "cell_type": "code",
      "metadata": {
        "id": "ZKDiD23jj1DO",
        "colab_type": "code",
        "colab": {}
      },
      "source": [
        ""
      ],
      "execution_count": 0,
      "outputs": []
    }
  ]
}