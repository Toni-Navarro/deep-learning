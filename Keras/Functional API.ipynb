{
  "nbformat": 4,
  "nbformat_minor": 0,
  "metadata": {
    "colab": {
      "name": "Untitled3.ipynb",
      "provenance": [],
      "authorship_tag": "ABX9TyMgJa0M6PS0nVFvQ2XtpnAZ"
    },
    "kernelspec": {
      "name": "python3",
      "display_name": "Python 3"
    }
  },
  "cells": [
    {
      "cell_type": "markdown",
      "metadata": {
        "id": "E_syPx4uj5kR",
        "colab_type": "text"
      },
      "source": [
        "# Keras functional API"
      ]
    },
    {
      "cell_type": "markdown",
      "metadata": {
        "id": "ItMf7xZRkVZj",
        "colab_type": "text"
      },
      "source": [
        "Introduction\n",
        "\n",
        "The Keras functional API is a way to create models that is more flexible than the tf.keras.Sequential API. The functional API can handle models with non-linear topology, models with shared layers, and models with multiple inputs or outputs.\n",
        "\n",
        "The main idea that a deep learning model is usually a directed acyclic graph (DAG) of layers. So the functional API is a way to build graphs of layers"
      ]
    },
    {
      "cell_type": "code",
      "metadata": {
        "id": "dx3t20kKlZaj",
        "colab_type": "code",
        "colab": {
          "base_uri": "https://localhost:8080/",
          "height": 53
        },
        "outputId": "c708f9b8-d335-488b-940b-68f3cae722a3"
      },
      "source": [
        "#Preparation of the model environment\n",
        "\n",
        "from __future__ import absolute_import, division, print_function, unicode_literals\n",
        "\n",
        "%tensorflow_version 2.x\n",
        "import tensorflow as tf\n",
        "from tensorflow import keras\n",
        "\n",
        "import numpy as np\n",
        "import matplotlib.pyplot as plt\n",
        "\n",
        "from tensorflow.keras.layers import Dense, Flatten, Conv2D\n",
        "from tensorflow.keras import Model\n",
        "from tensorflow.keras import layers\n",
        "\n",
        "print(tf.__version__)"
      ],
      "execution_count": 1,
      "outputs": [
        {
          "output_type": "stream",
          "text": [
            "TensorFlow 2.x selected.\n",
            "2.1.0\n"
          ],
          "name": "stdout"
        }
      ]
    },
    {
      "cell_type": "code",
      "metadata": {
        "id": "mii_qC0jkUoB",
        "colab_type": "code",
        "colab": {}
      },
      "source": [
        "#start by creating an input node:\n",
        "\n",
        "inputs = keras.Input(shape=(784,)) #784-dimensional vector. The batch size is always omitted since only the shape of each sample is specified.\n",
        "\n",
        "#or:\n",
        "\n",
        "img_inputs = keras.Input(shape=(32, 32, 3)) #image input with a shape of (32, 32, 3)"
      ],
      "execution_count": 0,
      "outputs": []
    },
    {
      "cell_type": "markdown",
      "metadata": {
        "id": "Y8xJYHcDlKpu",
        "colab_type": "text"
      },
      "source": [
        "We can check shape and dtype"
      ]
    },
    {
      "cell_type": "code",
      "metadata": {
        "id": "UX5ycfVrlJIu",
        "colab_type": "code",
        "colab": {
          "base_uri": "https://localhost:8080/",
          "height": 35
        },
        "outputId": "e0031c89-2157-4c2b-e825-c4359c68d354"
      },
      "source": [
        "inputs.shape"
      ],
      "execution_count": 3,
      "outputs": [
        {
          "output_type": "execute_result",
          "data": {
            "text/plain": [
              "TensorShape([None, 784])"
            ]
          },
          "metadata": {
            "tags": []
          },
          "execution_count": 3
        }
      ]
    },
    {
      "cell_type": "code",
      "metadata": {
        "id": "scQPfGF2l9o9",
        "colab_type": "code",
        "colab": {
          "base_uri": "https://localhost:8080/",
          "height": 35
        },
        "outputId": "0dd498ef-6378-48b9-fc8d-ba35a7bd2dbd"
      },
      "source": [
        "img_inputs.shape"
      ],
      "execution_count": 4,
      "outputs": [
        {
          "output_type": "execute_result",
          "data": {
            "text/plain": [
              "TensorShape([None, 32, 32, 3])"
            ]
          },
          "metadata": {
            "tags": []
          },
          "execution_count": 4
        }
      ]
    },
    {
      "cell_type": "code",
      "metadata": {
        "id": "sMzYZxtomAZG",
        "colab_type": "code",
        "colab": {
          "base_uri": "https://localhost:8080/",
          "height": 35
        },
        "outputId": "9e5a6faf-6d4d-47b2-85a7-d7c6ebb05a82"
      },
      "source": [
        "inputs.dtype"
      ],
      "execution_count": 5,
      "outputs": [
        {
          "output_type": "execute_result",
          "data": {
            "text/plain": [
              "tf.float32"
            ]
          },
          "metadata": {
            "tags": []
          },
          "execution_count": 5
        }
      ]
    },
    {
      "cell_type": "code",
      "metadata": {
        "id": "EiDVXft5mExN",
        "colab_type": "code",
        "colab": {
          "base_uri": "https://localhost:8080/",
          "height": 35
        },
        "outputId": "1c746b3b-6ffd-429f-f934-3fd4ce1b2a94"
      },
      "source": [
        "img_inputs.dtype"
      ],
      "execution_count": 6,
      "outputs": [
        {
          "output_type": "execute_result",
          "data": {
            "text/plain": [
              "tf.float32"
            ]
          },
          "metadata": {
            "tags": []
          },
          "execution_count": 6
        }
      ]
    },
    {
      "cell_type": "markdown",
      "metadata": {
        "id": "joidBZGxmQ_d",
        "colab_type": "text"
      },
      "source": [
        "You create a new node in the graph of layers by calling a layer on this inputs object:"
      ]
    },
    {
      "cell_type": "code",
      "metadata": {
        "id": "BSDOX9hJmG6n",
        "colab_type": "code",
        "colab": {}
      },
      "source": [
        "dense = layers.Dense(64, activation='relu')\n",
        "x = dense(inputs)"
      ],
      "execution_count": 0,
      "outputs": []
    },
    {
      "cell_type": "markdown",
      "metadata": {
        "id": "vDfJ4DpqwwSk",
        "colab_type": "text"
      },
      "source": [
        "Let's add a few more layers to the graph of layers:"
      ]
    },
    {
      "cell_type": "code",
      "metadata": {
        "id": "Cy6n9152wFmd",
        "colab_type": "code",
        "colab": {}
      },
      "source": [
        "x = layers.Dense(64, activation='relu')(x)\n",
        "outputs = layers.Dense(10)(x)"
      ],
      "execution_count": 0,
      "outputs": []
    },
    {
      "cell_type": "markdown",
      "metadata": {
        "id": "a7s-hXaPw8Pg",
        "colab_type": "text"
      },
      "source": [
        "create a Model by specifying its inputs and outputs in the graph of layers"
      ]
    },
    {
      "cell_type": "code",
      "metadata": {
        "id": "_AGS4jvIwzrc",
        "colab_type": "code",
        "colab": {
          "base_uri": "https://localhost:8080/",
          "height": 308
        },
        "outputId": "4b87da07-c83e-4a93-c411-3e0b36c85eb0"
      },
      "source": [
        "model = keras.Model(inputs=inputs, outputs=outputs, name='mnist_model')\n",
        "model.summary()"
      ],
      "execution_count": 9,
      "outputs": [
        {
          "output_type": "stream",
          "text": [
            "Model: \"mnist_model\"\n",
            "_________________________________________________________________\n",
            "Layer (type)                 Output Shape              Param #   \n",
            "=================================================================\n",
            "input_1 (InputLayer)         [(None, 784)]             0         \n",
            "_________________________________________________________________\n",
            "dense (Dense)                (None, 64)                50240     \n",
            "_________________________________________________________________\n",
            "dense_1 (Dense)              (None, 64)                4160      \n",
            "_________________________________________________________________\n",
            "dense_2 (Dense)              (None, 10)                650       \n",
            "=================================================================\n",
            "Total params: 55,050\n",
            "Trainable params: 55,050\n",
            "Non-trainable params: 0\n",
            "_________________________________________________________________\n"
          ],
          "name": "stdout"
        }
      ]
    },
    {
      "cell_type": "markdown",
      "metadata": {
        "id": "m36n3wfmxa7t",
        "colab_type": "text"
      },
      "source": [
        "You can also plot the model as a graph:"
      ]
    },
    {
      "cell_type": "code",
      "metadata": {
        "id": "JX1LXbl3xApj",
        "colab_type": "code",
        "colab": {
          "base_uri": "https://localhost:8080/",
          "height": 369
        },
        "outputId": "0be8f731-67ff-429a-9ec4-b8f5786a375d"
      },
      "source": [
        "keras.utils.plot_model(model)\n"
      ],
      "execution_count": 10,
      "outputs": [
        {
          "output_type": "execute_result",
          "data": {
            "image/png": "[encoded data removed]",
            "text/plain": [
              "<IPython.core.display.Image object>"
            ]
          },
          "metadata": {
            "tags": []
          },
          "execution_count": 10
        }
      ]
    },
    {
      "cell_type": "markdown",
      "metadata": {
        "id": "rkUbTRnexd3K",
        "colab_type": "text"
      },
      "source": [
        "And display the input and output shapes of each layer in the plotted graph:"
      ]
    },
    {
      "cell_type": "code",
      "metadata": {
        "id": "ib5Qq9cTxPxm",
        "colab_type": "code",
        "colab": {
          "base_uri": "https://localhost:8080/",
          "height": 422
        },
        "outputId": "6566bfe2-2670-4df1-8713-7cceab1221c6"
      },
      "source": [
        "keras.utils.plot_model(model, show_shapes=True)\n"
      ],
      "execution_count": 11,
      "outputs": [
        {
          "output_type": "execute_result",
          "data": {
            "image/png": "[encoded data removed]",
            "text/plain": [
              "<IPython.core.display.Image object>"
            ]
          },
          "metadata": {
            "tags": []
          },
          "execution_count": 11
        }
      ]
    },
    {
      "cell_type": "markdown",
      "metadata": {
        "id": "WYP63FR_qGMp",
        "colab_type": "text"
      },
      "source": [
        "Training, evaluation, and inference"
      ]
    },
    {
      "cell_type": "code",
      "metadata": {
        "id": "rAKTongtqICy",
        "colab_type": "code",
        "colab": {
          "base_uri": "https://localhost:8080/",
          "height": 308
        },
        "outputId": "7c8e5621-8307-44df-e5e6-b130b78f8823"
      },
      "source": [
        "(x_train, y_train), (x_test, y_test) = keras.datasets.mnist.load_data()\n",
        "\n",
        "x_train = x_train.reshape(60000, 784).astype('float32') / 255\n",
        "x_test = x_test.reshape(10000, 784).astype('float32') / 255\n",
        "\n",
        "model.compile(loss=keras.losses.SparseCategoricalCrossentropy(from_logits=True),\n",
        "              optimizer=keras.optimizers.RMSprop(),\n",
        "              metrics=['accuracy'])\n",
        "\n",
        "history = model.fit(x_train, y_train,\n",
        "                    batch_size=64,\n",
        "                    epochs=5,\n",
        "                    validation_split=0.2)\n",
        "\n",
        "test_scores = model.evaluate(x_test, y_test, verbose=2)\n",
        "print('Test loss:', test_scores[0])\n",
        "print('Test accuracy:', test_scores[1])\n"
      ],
      "execution_count": 12,
      "outputs": [
        {
          "output_type": "stream",
          "text": [
            "Downloading data from https://storage.googleapis.com/tensorflow/tf-keras-datasets/mnist.npz\n",
            "11493376/11490434 [==============================] - 0s 0us/step\n",
            "Train on 48000 samples, validate on 12000 samples\n",
            "Epoch 1/5\n",
            "48000/48000 [==============================] - 3s 59us/sample - loss: 0.3500 - accuracy: 0.9000 - val_loss: 0.2133 - val_accuracy: 0.9374\n",
            "Epoch 2/5\n",
            "48000/48000 [==============================] - 2s 43us/sample - loss: 0.1661 - accuracy: 0.9510 - val_loss: 0.1483 - val_accuracy: 0.9574\n",
            "Epoch 3/5\n",
            "48000/48000 [==============================] - 2s 42us/sample - loss: 0.1222 - accuracy: 0.9635 - val_loss: 0.1313 - val_accuracy: 0.9613\n",
            "Epoch 4/5\n",
            "48000/48000 [==============================] - 2s 44us/sample - loss: 0.0975 - accuracy: 0.9710 - val_loss: 0.1262 - val_accuracy: 0.9644\n",
            "Epoch 5/5\n",
            "48000/48000 [==============================] - 2s 43us/sample - loss: 0.0814 - accuracy: 0.9761 - val_loss: 0.1125 - val_accuracy: 0.9679\n",
            "10000/10000 - 0s - loss: 0.1086 - accuracy: 0.9665\n",
            "Test loss: 0.1085853345265612\n",
            "Test accuracy: 0.9665\n"
          ],
          "name": "stdout"
        }
      ]
    },
    {
      "cell_type": "markdown",
      "metadata": {
        "id": "XfbB9yi5r_mD",
        "colab_type": "text"
      },
      "source": [
        "Use the same graph of layers to define multiple models (composition principle)"
      ]
    },
    {
      "cell_type": "code",
      "metadata": {
        "id": "HA2Z1mqTqORB",
        "colab_type": "code",
        "colab": {
          "base_uri": "https://localhost:8080/",
          "height": 1000
        },
        "outputId": "771a6371-678f-40aa-f4e1-e4d177ce2807"
      },
      "source": [
        "encoder_input = keras.Input(shape=(28, 28, 1), name='img') #common input for both models\n",
        "\n",
        "x = layers.Conv2D(16, 3, activation='relu')(encoder_input)\n",
        "x = layers.Conv2D(32, 3, activation='relu')(x)\n",
        "x = layers.MaxPooling2D(3)(x)\n",
        "x = layers.Conv2D(32, 3, activation='relu')(x)\n",
        "x = layers.Conv2D(16, 3, activation='relu')(x)\n",
        "encoder_output = layers.GlobalMaxPooling2D()(x) #first output\n",
        "\n",
        "encoder = keras.Model(encoder_input, encoder_output, name='encoder') #first model\n",
        "encoder.summary()\n",
        "\n",
        "x = layers.Reshape((4, 4, 1))(encoder_output)\n",
        "x = layers.Conv2DTranspose(16, 3, activation='relu')(x)\n",
        "x = layers.Conv2DTranspose(32, 3, activation='relu')(x)\n",
        "x = layers.UpSampling2D(3)(x)\n",
        "x = layers.Conv2DTranspose(16, 3, activation='relu')(x)\n",
        "decoder_output = layers.Conv2DTranspose(1, 3, activation='relu')(x) #second output\n",
        "\n",
        "autoencoder = keras.Model(encoder_input, decoder_output, name='autoencoder')\n",
        "autoencoder.summary()\n"
      ],
      "execution_count": 13,
      "outputs": [
        {
          "output_type": "stream",
          "text": [
            "Model: \"encoder\"\n",
            "_________________________________________________________________\n",
            "Layer (type)                 Output Shape              Param #   \n",
            "=================================================================\n",
            "img (InputLayer)             [(None, 28, 28, 1)]       0         \n",
            "_________________________________________________________________\n",
            "conv2d (Conv2D)              (None, 26, 26, 16)        160       \n",
            "_________________________________________________________________\n",
            "conv2d_1 (Conv2D)            (None, 24, 24, 32)        4640      \n",
            "_________________________________________________________________\n",
            "max_pooling2d (MaxPooling2D) (None, 8, 8, 32)          0         \n",
            "_________________________________________________________________\n",
            "conv2d_2 (Conv2D)            (None, 6, 6, 32)          9248      \n",
            "_________________________________________________________________\n",
            "conv2d_3 (Conv2D)            (None, 4, 4, 16)          4624      \n",
            "_________________________________________________________________\n",
            "global_max_pooling2d (Global (None, 16)                0         \n",
            "=================================================================\n",
            "Total params: 18,672\n",
            "Trainable params: 18,672\n",
            "Non-trainable params: 0\n",
            "_________________________________________________________________\n",
            "Model: \"autoencoder\"\n",
            "_________________________________________________________________\n",
            "Layer (type)                 Output Shape              Param #   \n",
            "=================================================================\n",
            "img (InputLayer)             [(None, 28, 28, 1)]       0         \n",
            "_________________________________________________________________\n",
            "conv2d (Conv2D)              (None, 26, 26, 16)        160       \n",
            "_________________________________________________________________\n",
            "conv2d_1 (Conv2D)            (None, 24, 24, 32)        4640      \n",
            "_________________________________________________________________\n",
            "max_pooling2d (MaxPooling2D) (None, 8, 8, 32)          0         \n",
            "_________________________________________________________________\n",
            "conv2d_2 (Conv2D)            (None, 6, 6, 32)          9248      \n",
            "_________________________________________________________________\n",
            "conv2d_3 (Conv2D)            (None, 4, 4, 16)          4624      \n",
            "_________________________________________________________________\n",
            "global_max_pooling2d (Global (None, 16)                0         \n",
            "_________________________________________________________________\n",
            "reshape (Reshape)            (None, 4, 4, 1)           0         \n",
            "_________________________________________________________________\n",
            "conv2d_transpose (Conv2DTran (None, 6, 6, 16)          160       \n",
            "_________________________________________________________________\n",
            "conv2d_transpose_1 (Conv2DTr (None, 8, 8, 32)          4640      \n",
            "_________________________________________________________________\n",
            "up_sampling2d (UpSampling2D) (None, 24, 24, 32)        0         \n",
            "_________________________________________________________________\n",
            "conv2d_transpose_2 (Conv2DTr (None, 26, 26, 16)        4624      \n",
            "_________________________________________________________________\n",
            "conv2d_transpose_3 (Conv2DTr (None, 28, 28, 1)         145       \n",
            "=================================================================\n",
            "Total params: 28,241\n",
            "Trainable params: 28,241\n",
            "Non-trainable params: 0\n",
            "_________________________________________________________________\n"
          ],
          "name": "stdout"
        }
      ]
    },
    {
      "cell_type": "markdown",
      "metadata": {
        "id": "Kr2RkW5TtzC4",
        "colab_type": "text"
      },
      "source": [
        "All models are callable, just like layers"
      ]
    },
    {
      "cell_type": "code",
      "metadata": {
        "id": "Afe4yl10ssY9",
        "colab_type": "code",
        "colab": {
          "base_uri": "https://localhost:8080/",
          "height": 1000
        },
        "outputId": "9d9fe089-71fb-485f-a8e5-62d935dca3d4"
      },
      "source": [
        "encoder_input = keras.Input(shape=(28, 28, 1), name='original_img')\n",
        "x = layers.Conv2D(16, 3, activation='relu')(encoder_input)\n",
        "x = layers.Conv2D(32, 3, activation='relu')(x)\n",
        "x = layers.MaxPooling2D(3)(x)\n",
        "x = layers.Conv2D(32, 3, activation='relu')(x)\n",
        "x = layers.Conv2D(16, 3, activation='relu')(x)\n",
        "encoder_output = layers.GlobalMaxPooling2D()(x)\n",
        "\n",
        "encoder = keras.Model(encoder_input, encoder_output, name='encoder')\n",
        "encoder.summary()\n",
        "\n",
        "decoder_input = keras.Input(shape=(16,), name='encoded_img')\n",
        "x = layers.Reshape((4, 4, 1))(decoder_input)\n",
        "x = layers.Conv2DTranspose(16, 3, activation='relu')(x)\n",
        "x = layers.Conv2DTranspose(32, 3, activation='relu')(x)\n",
        "x = layers.UpSampling2D(3)(x)\n",
        "x = layers.Conv2DTranspose(16, 3, activation='relu')(x)\n",
        "decoder_output = layers.Conv2DTranspose(1, 3, activation='relu')(x)\n",
        "\n",
        "decoder = keras.Model(decoder_input, decoder_output, name='decoder')\n",
        "decoder.summary()\n",
        "\n",
        "autoencoder_input = keras.Input(shape=(28, 28, 1), name='img')\n",
        "encoded_img = encoder(autoencoder_input)\n",
        "decoded_img = decoder(encoded_img)\n",
        "autoencoder = keras.Model(autoencoder_input, decoded_img, name='autoencoder')\n",
        "autoencoder.summary()\n"
      ],
      "execution_count": 14,
      "outputs": [
        {
          "output_type": "stream",
          "text": [
            "Model: \"encoder\"\n",
            "_________________________________________________________________\n",
            "Layer (type)                 Output Shape              Param #   \n",
            "=================================================================\n",
            "original_img (InputLayer)    [(None, 28, 28, 1)]       0         \n",
            "_________________________________________________________________\n",
            "conv2d_4 (Conv2D)            (None, 26, 26, 16)        160       \n",
            "_________________________________________________________________\n",
            "conv2d_5 (Conv2D)            (None, 24, 24, 32)        4640      \n",
            "_________________________________________________________________\n",
            "max_pooling2d_1 (MaxPooling2 (None, 8, 8, 32)          0         \n",
            "_________________________________________________________________\n",
            "conv2d_6 (Conv2D)            (None, 6, 6, 32)          9248      \n",
            "_________________________________________________________________\n",
            "conv2d_7 (Conv2D)            (None, 4, 4, 16)          4624      \n",
            "_________________________________________________________________\n",
            "global_max_pooling2d_1 (Glob (None, 16)                0         \n",
            "=================================================================\n",
            "Total params: 18,672\n",
            "Trainable params: 18,672\n",
            "Non-trainable params: 0\n",
            "_________________________________________________________________\n",
            "Model: \"decoder\"\n",
            "_________________________________________________________________\n",
            "Layer (type)                 Output Shape              Param #   \n",
            "=================================================================\n",
            "encoded_img (InputLayer)     [(None, 16)]              0         \n",
            "_________________________________________________________________\n",
            "reshape_1 (Reshape)          (None, 4, 4, 1)           0         \n",
            "_________________________________________________________________\n",
            "conv2d_transpose_4 (Conv2DTr (None, 6, 6, 16)          160       \n",
            "_________________________________________________________________\n",
            "conv2d_transpose_5 (Conv2DTr (None, 8, 8, 32)          4640      \n",
            "_________________________________________________________________\n",
            "up_sampling2d_1 (UpSampling2 (None, 24, 24, 32)        0         \n",
            "_________________________________________________________________\n",
            "conv2d_transpose_6 (Conv2DTr (None, 26, 26, 16)        4624      \n",
            "_________________________________________________________________\n",
            "conv2d_transpose_7 (Conv2DTr (None, 28, 28, 1)         145       \n",
            "=================================================================\n",
            "Total params: 9,569\n",
            "Trainable params: 9,569\n",
            "Non-trainable params: 0\n",
            "_________________________________________________________________\n",
            "Model: \"autoencoder\"\n",
            "_________________________________________________________________\n",
            "Layer (type)                 Output Shape              Param #   \n",
            "=================================================================\n",
            "img (InputLayer)             [(None, 28, 28, 1)]       0         \n",
            "_________________________________________________________________\n",
            "encoder (Model)              (None, 16)                18672     \n",
            "_________________________________________________________________\n",
            "decoder (Model)              (None, 28, 28, 1)         9569      \n",
            "=================================================================\n",
            "Total params: 28,241\n",
            "Trainable params: 28,241\n",
            "Non-trainable params: 0\n",
            "_________________________________________________________________\n"
          ],
          "name": "stdout"
        }
      ]
    },
    {
      "cell_type": "markdown",
      "metadata": {
        "id": "IQip2dqVv2r8",
        "colab_type": "text"
      },
      "source": [
        "Ensembling"
      ]
    },
    {
      "cell_type": "code",
      "metadata": {
        "id": "9NpYOSh_vw0G",
        "colab_type": "code",
        "colab": {
          "base_uri": "https://localhost:8080/",
          "height": 380
        },
        "outputId": "69854b5f-30da-40c1-cd1b-1d0768e75d47"
      },
      "source": [
        "def get_model():\n",
        "  inputs = keras.Input(shape=(128,))\n",
        "  outputs = layers.Dense(1)(inputs)\n",
        "  return keras.Model(inputs, outputs)\n",
        "\n",
        "model1 = get_model()\n",
        "model2 = get_model()\n",
        "model3 = get_model()\n",
        "\n",
        "inputs = keras.Input(shape=(128,))\n",
        "y1 = model1(inputs)\n",
        "y2 = model2(inputs)\n",
        "y3 = model3(inputs)\n",
        "outputs = layers.average([y1, y2, y3]) #single model that averages predictions on three models\n",
        "ensemble_model = keras.Model(inputs=inputs, outputs=outputs)\n",
        "ensemble_model.summary()"
      ],
      "execution_count": 17,
      "outputs": [
        {
          "output_type": "stream",
          "text": [
            "Model: \"model_11\"\n",
            "__________________________________________________________________________________________________\n",
            "Layer (type)                    Output Shape         Param #     Connected to                     \n",
            "==================================================================================================\n",
            "input_14 (InputLayer)           [(None, 128)]        0                                            \n",
            "__________________________________________________________________________________________________\n",
            "model_8 (Model)                 (None, 1)            129         input_14[0][0]                   \n",
            "__________________________________________________________________________________________________\n",
            "model_9 (Model)                 (None, 1)            129         input_14[0][0]                   \n",
            "__________________________________________________________________________________________________\n",
            "model_10 (Model)                (None, 1)            129         input_14[0][0]                   \n",
            "__________________________________________________________________________________________________\n",
            "average_2 (Average)             (None, 1)            0           model_8[1][0]                    \n",
            "                                                                 model_9[1][0]                    \n",
            "                                                                 model_10[1][0]                   \n",
            "==================================================================================================\n",
            "Total params: 387\n",
            "Trainable params: 387\n",
            "Non-trainable params: 0\n",
            "__________________________________________________________________________________________________\n"
          ],
          "name": "stdout"
        }
      ]
    },
    {
      "cell_type": "code",
      "metadata": {
        "id": "Nh9uIi7Hwf1g",
        "colab_type": "code",
        "colab": {
          "base_uri": "https://localhost:8080/",
          "height": 312
        },
        "outputId": "042dffe0-751b-42e7-c6ad-6c572ce4bd02"
      },
      "source": [
        "keras.utils.plot_model(ensemble_model, show_shapes=True)"
      ],
      "execution_count": 18,
      "outputs": [
        {
          "output_type": "execute_result",
          "data": {
            "image/png": "[encoded data removed]",
            "text/plain": [
              "<IPython.core.display.Image object>"
            ]
          },
          "metadata": {
            "tags": []
          },
          "execution_count": 18
        }
      ]
    },
    {
      "cell_type": "markdown",
      "metadata": {
        "id": "3ZAX0x9018Mr",
        "colab_type": "text"
      },
      "source": [
        "#Manipulating complex graph topologies"
      ]
    },
    {
      "cell_type": "markdown",
      "metadata": {
        "id": "l6jiQDQY2C7o",
        "colab_type": "text"
      },
      "source": [
        "Models with multiple inputs and outputs"
      ]
    },
    {
      "cell_type": "markdown",
      "metadata": {
        "id": "wkz1Ekob2Wsi",
        "colab_type": "text"
      },
      "source": [
        "system for ranking custom issue tickets by priority and routing them to the correct department, then the model will have three inputs:\n",
        "\n",
        "    the title of the ticket (text input),\n",
        "    the text body of the ticket (text input), and\n",
        "    any tags added by the user (categorical input)\n",
        "\n",
        "This model will have two outputs:\n",
        "\n",
        "    the priority score between 0 and 1 (scalar sigmoid output), and\n",
        "    the department that should handle the ticket (softmax output over the set of departments).\n"
      ]
    },
    {
      "cell_type": "code",
      "metadata": {
        "id": "5guGh9R1xGWF",
        "colab_type": "code",
        "colab": {}
      },
      "source": [
        "num_tags = 12  # Number of unique issue tags\n",
        "num_words = 10000  # Size of vocabulary obtained when preprocessing text data\n",
        "num_departments = 4  # Number of departments for predictions\n",
        "\n",
        "title_input = keras.Input(shape=(None,), name='title')  # Variable-length sequence of ints\n",
        "body_input = keras.Input(shape=(None,), name='body')  # Variable-length sequence of ints\n",
        "tags_input = keras.Input(shape=(num_tags,), name='tags')  # Binary vectors of size `num_tags`\n",
        "\n",
        "# Embed each word in the title into a 64-dimensional vector\n",
        "title_features = layers.Embedding(num_words, 64)(title_input)\n",
        "# Embed each word in the text into a 64-dimensional vector\n",
        "body_features = layers.Embedding(num_words, 64)(body_input)\n",
        "\n",
        "# Reduce sequence of embedded words in the title into a single 128-dimensional vector\n",
        "title_features = layers.LSTM(128)(title_features)\n",
        "# Reduce sequence of embedded words in the body into a single 32-dimensional vector\n",
        "body_features = layers.LSTM(32)(body_features)\n",
        "\n",
        "# Merge all available features into a single large vector via concatenation\n",
        "x = layers.concatenate([title_features, body_features, tags_input])\n",
        "\n",
        "# Stick a logistic regression for priority prediction on top of the features\n",
        "priority_pred = layers.Dense(1, name='priority')(x)\n",
        "# Stick a department classifier on top of the features\n",
        "department_pred = layers.Dense(num_departments, name='department')(x)\n",
        "\n",
        "# Instantiate an end-to-end model predicting both priority and department\n",
        "model = keras.Model(inputs=[title_input, body_input, tags_input],\n",
        "                    outputs=[priority_pred, department_pred])\n"
      ],
      "execution_count": 0,
      "outputs": []
    },
    {
      "cell_type": "code",
      "metadata": {
        "id": "m5zgH3rq4fQp",
        "colab_type": "code",
        "colab": {
          "base_uri": "https://localhost:8080/",
          "height": 533
        },
        "outputId": "1c5774e1-18ed-47d0-dccc-3b02f132d07b"
      },
      "source": [
        "keras.utils.plot_model(model, show_shapes=True)\n"
      ],
      "execution_count": 20,
      "outputs": [
        {
          "output_type": "execute_result",
          "data": {
            "image/png": "[encoded data removed]",
            "text/plain": [
              "<IPython.core.display.Image object>"
            ]
          },
          "metadata": {
            "tags": []
          },
          "execution_count": 20
        }
      ]
    },
    {
      "cell_type": "markdown",
      "metadata": {
        "id": "maWef0yq5_1_",
        "colab_type": "text"
      },
      "source": [
        "It is possible to assign different losses to each output. Also to assign different weights to each loss—to modulate their contribution to the total training loss."
      ]
    },
    {
      "cell_type": "code",
      "metadata": {
        "id": "S81AvvKB6IX5",
        "colab_type": "code",
        "colab": {}
      },
      "source": [
        "model.compile(optimizer=keras.optimizers.RMSprop(1e-3),\n",
        "              loss=[keras.losses.BinaryCrossentropy(from_logits=True),\n",
        "                    keras.losses.CategoricalCrossentropy(from_logits=True)],\n",
        "              loss_weights=[1., 0.2])\n",
        "# or\n",
        "\n",
        "model.compile(optimizer=keras.optimizers.RMSprop(1e-3),\n",
        "              loss={'priority':keras.losses.BinaryCrossentropy(from_logits=True),\n",
        "                    'department': keras.losses.CategoricalCrossentropy(from_logits=True)},\n",
        "              loss_weights=[1., 0.2])\n"
      ],
      "execution_count": 0,
      "outputs": []
    },
    {
      "cell_type": "code",
      "metadata": {
        "id": "-Hns5A-M6Lia",
        "colab_type": "code",
        "colab": {
          "base_uri": "https://localhost:8080/",
          "height": 126
        },
        "outputId": "9a136ae4-7c13-4d6c-91c1-375615ecccd8"
      },
      "source": [
        "# Training the model\n",
        "\n",
        "# Dummy input data\n",
        "title_data = np.random.randint(num_words, size=(1280, 10))\n",
        "body_data = np.random.randint(num_words, size=(1280, 100))\n",
        "tags_data = np.random.randint(2, size=(1280, num_tags)).astype('float32')\n",
        "\n",
        "# Dummy target data\n",
        "priority_targets = np.random.random(size=(1280, 1))\n",
        "dept_targets = np.random.randint(2, size=(1280, num_departments))\n",
        "\n",
        "model.fit({'title': title_data, 'body': body_data, 'tags': tags_data},\n",
        "          {'priority': priority_targets, 'department': dept_targets},\n",
        "          epochs=2,\n",
        "          batch_size=32)"
      ],
      "execution_count": 23,
      "outputs": [
        {
          "output_type": "stream",
          "text": [
            "Train on 1280 samples\n",
            "Epoch 1/2\n",
            "1280/1280 [==============================] - 4s 3ms/sample - loss: 1.3740 - priority_loss: 0.7027 - department_loss: 3.3566\n",
            "Epoch 2/2\n",
            "1280/1280 [==============================] - 2s 1ms/sample - loss: 1.3508 - priority_loss: 0.7003 - department_loss: 3.2526\n"
          ],
          "name": "stdout"
        },
        {
          "output_type": "execute_result",
          "data": {
            "text/plain": [
              "<tensorflow.python.keras.callbacks.History at 0x7ff4f3261630>"
            ]
          },
          "metadata": {
            "tags": []
          },
          "execution_count": 23
        }
      ]
    },
    {
      "cell_type": "code",
      "metadata": {
        "id": "p54UnwKTEjxO",
        "colab_type": "code",
        "colab": {}
      },
      "source": [
        "#When calling fit with a Dataset object, it should yield either a tuple of lists \n",
        "#like ([title_data, body_data, tags_data], [priority_targets, dept_targets]) \n",
        "#or a tuple of dictionaries like ({'title': title_data, 'body': body_data, 'tags': tags_data}, {'priority': priority_targets, 'department': dept_targets})."
      ],
      "execution_count": 0,
      "outputs": []
    },
    {
      "cell_type": "code",
      "metadata": {
        "id": "_sGQcsd2FAzY",
        "colab_type": "code",
        "colab": {}
      },
      "source": [
        ""
      ],
      "execution_count": 0,
      "outputs": []
    }
  ]
}