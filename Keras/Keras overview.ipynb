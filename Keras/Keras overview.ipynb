{
  "nbformat": 4,
  "nbformat_minor": 0,
  "metadata": {
    "colab": {
      "name": "Untitled2.ipynb",
      "provenance": [],
      "authorship_tag": "ABX9TyMwBV8YQK8liyBKiGC/Ise4"
    },
    "kernelspec": {
      "name": "python3",
      "display_name": "Python 3"
    }
  },
  "cells": [
    {
      "cell_type": "markdown",
      "metadata": {
        "id": "TF5X4r-jUqCC",
        "colab_type": "text"
      },
      "source": [
        "#Keras Overview"
      ]
    },
    {
      "cell_type": "markdown",
      "metadata": {
        "id": "a8l1CIKHUu2T",
        "colab_type": "text"
      },
      "source": [
        "import tf.keras"
      ]
    },
    {
      "cell_type": "code",
      "metadata": {
        "id": "MrrEp5EaVlGL",
        "colab_type": "code",
        "colab": {
          "base_uri": "https://localhost:8080/",
          "height": 35
        },
        "outputId": "a349f8b8-dda5-4eb7-bbbf-e03289dce640"
      },
      "source": [
        "#Running import tensorflow will import the default version (currently 1.x). You can use 2.x by running a cell with the tensorflow_version magic before you run import tensorflow.\n",
        "%tensorflow_version 2.x\n"
      ],
      "execution_count": 1,
      "outputs": [
        {
          "output_type": "stream",
          "text": [
            "TensorFlow 2.x selected.\n"
          ],
          "name": "stdout"
        }
      ]
    },
    {
      "cell_type": "code",
      "metadata": {
        "id": "4_UGS0rcUtzo",
        "colab_type": "code",
        "colab": {}
      },
      "source": [
        "from __future__ import absolute_import, division, print_function, unicode_literals\n",
        "\n",
        "import tensorflow as tf\n",
        "\n",
        "from tensorflow import keras"
      ],
      "execution_count": 0,
      "outputs": []
    },
    {
      "cell_type": "markdown",
      "metadata": {
        "id": "jNj6UFYlV_ds",
        "colab_type": "text"
      },
      "source": [
        "Build a simple sequential model"
      ]
    },
    {
      "cell_type": "code",
      "metadata": {
        "id": "kSKa-WZTVQw9",
        "colab_type": "code",
        "colab": {}
      },
      "source": [
        "from tensorflow.keras import layers\n",
        "\n",
        "model = tf.keras.Sequential()\n",
        "# Adds a densely-connected layer with 64 units to the model:\n",
        "model.add(layers.Dense(64, activation='relu'))\n",
        "# Add another:\n",
        "model.add(layers.Dense(64, activation='relu'))\n",
        "# Add an output layer with 10 output units:\n",
        "model.add(layers.Dense(10))\n"
      ],
      "execution_count": 0,
      "outputs": []
    },
    {
      "cell_type": "markdown",
      "metadata": {
        "id": "jmFIm_PZYt1u",
        "colab_type": "text"
      },
      "source": [
        "Configure the layers"
      ]
    },
    {
      "cell_type": "code",
      "metadata": {
        "id": "zGBA0oHjXeRL",
        "colab_type": "code",
        "colab": {
          "base_uri": "https://localhost:8080/",
          "height": 35
        },
        "outputId": "c344fb4e-2ef0-4cab-c3e3-322894e42b3b"
      },
      "source": [
        "#common constructor arguments:\n",
        "#activation: Set the activation function for the layer. This parameter is specified by the name of a built-in function or as a callable object. By default, no activation is applied.\n",
        "#kernel_initializer and bias_initializer: The initialization schemes that create the layer's weights (kernel and bias). This parameter is a name or a callable object. This defaults to the \"Glorot uniform\" initializer.\n",
        "#kernel_regularizer and bias_regularizer: The regularization schemes that apply the layer's weights (kernel and bias), such as L1 or L2 regularization. By default, no regularization is applied.\n",
        "\n",
        "# Create a relu layer:\n",
        "layers.Dense(64, activation='relu')\n",
        "# Or:\n",
        "layers.Dense(64, activation=tf.nn.relu)\n",
        "\n",
        "# A linear layer with L1 regularization of factor 0.01 applied to the kernel matrix:\n",
        "layers.Dense(64, kernel_regularizer=tf.keras.regularizers.l1(0.01))\n",
        "\n",
        "# A linear layer with L2 regularization of factor 0.01 applied to the bias vector:\n",
        "layers.Dense(64, bias_regularizer=tf.keras.regularizers.l2(0.01))\n",
        "\n",
        "# A linear layer with a kernel initialized to a random orthogonal matrix:\n",
        "layers.Dense(64, kernel_initializer='orthogonal')\n",
        "\n",
        "# A linear layer with a bias vector initialized to 2.0s:\n",
        "layers.Dense(64, bias_initializer=tf.keras.initializers.Constant(2.0))\n"
      ],
      "execution_count": 5,
      "outputs": [
        {
          "output_type": "execute_result",
          "data": {
            "text/plain": [
              "<tensorflow.python.keras.layers.core.Dense at 0x7f20fbea8e80>"
            ]
          },
          "metadata": {
            "tags": []
          },
          "execution_count": 5
        }
      ]
    },
    {
      "cell_type": "markdown",
      "metadata": {
        "id": "bwESPX5VZZrS",
        "colab_type": "text"
      },
      "source": [
        "Train and evaluate"
      ]
    },
    {
      "cell_type": "code",
      "metadata": {
        "id": "x5O5IIkvY-4N",
        "colab_type": "code",
        "colab": {}
      },
      "source": [
        "#important arguments:\n",
        "\n",
        "#optimizer: This object specifies the training procedure. Pass it optimizer instances from the tf.keras.optimizers module, such as tf.keras.optimizers.Adam or tf.keras.optimizers.SGD. If you just want to use the default parameters, you can also specify optimizers via strings, such as 'adam' or 'sgd'\n",
        "# https://www.tensorflow.org/api_docs/python/tf/keras/optimizers\n",
        "\n",
        "#loss: The function to minimize during optimization. Common choices include mean square error (mse), categorical_crossentropy, and binary_crossentropy. Loss functions are specified by name or by passing a callable object from the tf.keras.losses module.\n",
        "# https://www.tensorflow.org/api_docs/python/tf/keras/losses\n",
        "\n",
        "#metrics: Used to monitor training. These are string names or callables from the tf.keras.metrics module.\n",
        "# https://www.tensorflow.org/api_docs/python/tf/keras/metrics\n",
        "\n",
        "#Additionally, to make sure the model trains and evaluates eagerly, you can make sure to pass run_eagerly=True as a parameter to compile.\n",
        "# https://www.tensorflow.org/guide/eager\n",
        "\n",
        "model.compile(optimizer=tf.keras.optimizers.Adam(0.01),\n",
        "              loss=tf.keras.losses.CategoricalCrossentropy(from_logits=True),\n",
        "              metrics=['accuracy'])\n"
      ],
      "execution_count": 0,
      "outputs": []
    },
    {
      "cell_type": "code",
      "metadata": {
        "id": "m4dihqa6cDhb",
        "colab_type": "code",
        "colab": {}
      },
      "source": [
        "#tf.keras.Model.fit takes three important arguments: (https://www.tensorflow.org/api_docs/python/tf/keras/Model#fit)\n",
        "\n",
        "#epochs: Training is structured into epochs. An epoch is one iteration over the entire input data (this is done in smaller batches).\n",
        "\n",
        "#batch_size: When passed NumPy data, the model slices the data into smaller batches and iterates over these batches during training. This integer specifies the size of each batch. Be aware that the last batch may be smaller if the total number of samples is not divisible by the batch size.\n",
        "\n",
        "#validation_data: When prototyping a model, you want to easily monitor its performance on some validation data. Passing this argument—a tuple of inputs and labels—allows the model to display the loss and metrics in inference mode for the passed data, at the end of each epoch.\n"
      ],
      "execution_count": 0,
      "outputs": []
    },
    {
      "cell_type": "code",
      "metadata": {
        "id": "7j8mwSz9ZhX1",
        "colab_type": "code",
        "colab": {
          "base_uri": "https://localhost:8080/",
          "height": 417
        },
        "outputId": "a4f3a41a-c6dc-4aef-d601-807892564153"
      },
      "source": [
        "#For small datasets, use in-memory NumPy arrays to train and evaluate a model. The model is \"fit\" to the training data using the fit method:\n",
        "\n",
        "import numpy as np\n",
        "\n",
        "data = np.random.random((1000, 32))\n",
        "labels = np.random.random((1000, 10))\n",
        "\n",
        "model.fit(data, labels, epochs=10, batch_size=32)\n"
      ],
      "execution_count": 7,
      "outputs": [
        {
          "output_type": "stream",
          "text": [
            "Train on 1000 samples\n",
            "Epoch 1/10\n",
            "1000/1000 [==============================] - 1s 529us/sample - loss: 35.0240 - accuracy: 0.0970\n",
            "Epoch 2/10\n",
            "1000/1000 [==============================] - 0s 53us/sample - loss: 269.2570 - accuracy: 0.0960\n",
            "Epoch 3/10\n",
            "1000/1000 [==============================] - 0s 56us/sample - loss: 1220.0181 - accuracy: 0.0930\n",
            "Epoch 4/10\n",
            "1000/1000 [==============================] - 0s 61us/sample - loss: 3189.8622 - accuracy: 0.1120\n",
            "Epoch 5/10\n",
            "1000/1000 [==============================] - 0s 60us/sample - loss: 5814.7428 - accuracy: 0.0900\n",
            "Epoch 6/10\n",
            "1000/1000 [==============================] - 0s 53us/sample - loss: 10386.9597 - accuracy: 0.0920\n",
            "Epoch 7/10\n",
            "1000/1000 [==============================] - 0s 56us/sample - loss: 12963.0698 - accuracy: 0.1080\n",
            "Epoch 8/10\n",
            "1000/1000 [==============================] - 0s 56us/sample - loss: 27357.9418 - accuracy: 0.1010\n",
            "Epoch 9/10\n",
            "1000/1000 [==============================] - 0s 54us/sample - loss: 30494.2467 - accuracy: 0.1010\n",
            "Epoch 10/10\n",
            "1000/1000 [==============================] - 0s 56us/sample - loss: 43702.4634 - accuracy: 0.1050\n"
          ],
          "name": "stdout"
        },
        {
          "output_type": "execute_result",
          "data": {
            "text/plain": [
              "<tensorflow.python.keras.callbacks.History at 0x7f20714b20f0>"
            ]
          },
          "metadata": {
            "tags": []
          },
          "execution_count": 7
        }
      ]
    },
    {
      "cell_type": "code",
      "metadata": {
        "id": "F0QGFprJbuQc",
        "colab_type": "code",
        "colab": {
          "base_uri": "https://localhost:8080/",
          "height": 417
        },
        "outputId": "fdf6244c-36f6-4eec-dae9-76654768f5ee"
      },
      "source": [
        "#Use the Datasets API to scale to large datasets or multi-device training. Pass a tf.data.Dataset instance to the fit method\n",
        "\n",
        "# Instantiates a toy dataset instance:\n",
        "dataset = tf.data.Dataset.from_tensor_slices((data, labels))\n",
        "dataset = dataset.batch(32)\n",
        "\n",
        "model.fit(dataset, epochs=10)\n",
        "\n",
        "#Since the Dataset yields batches of data, this snippet does not require a batch_size."
      ],
      "execution_count": 8,
      "outputs": [
        {
          "output_type": "stream",
          "text": [
            "Train for 32 steps\n",
            "Epoch 1/10\n",
            "32/32 [==============================] - 0s 7ms/step - loss: 58080.0469 - accuracy: 0.1230\n",
            "Epoch 2/10\n",
            "32/32 [==============================] - 0s 2ms/step - loss: 52639.6317 - accuracy: 0.0850\n",
            "Epoch 3/10\n",
            "32/32 [==============================] - 0s 2ms/step - loss: 62299.3713 - accuracy: 0.0990\n",
            "Epoch 4/10\n",
            "32/32 [==============================] - 0s 2ms/step - loss: 94143.9932 - accuracy: 0.1130\n",
            "Epoch 5/10\n",
            "32/32 [==============================] - 0s 2ms/step - loss: 108062.0277 - accuracy: 0.0840\n",
            "Epoch 6/10\n",
            "32/32 [==============================] - 0s 2ms/step - loss: 104414.6075 - accuracy: 0.0810\n",
            "Epoch 7/10\n",
            "32/32 [==============================] - 0s 2ms/step - loss: 121887.7343 - accuracy: 0.1250\n",
            "Epoch 8/10\n",
            "32/32 [==============================] - 0s 2ms/step - loss: 142789.6317 - accuracy: 0.0780\n",
            "Epoch 9/10\n",
            "32/32 [==============================] - 0s 2ms/step - loss: 190908.8053 - accuracy: 0.1110\n",
            "Epoch 10/10\n",
            "32/32 [==============================] - 0s 2ms/step - loss: 189730.1562 - accuracy: 0.1020\n"
          ],
          "name": "stdout"
        },
        {
          "output_type": "execute_result",
          "data": {
            "text/plain": [
              "<tensorflow.python.keras.callbacks.History at 0x7f2119747f28>"
            ]
          },
          "metadata": {
            "tags": []
          },
          "execution_count": 8
        }
      ]
    },
    {
      "cell_type": "code",
      "metadata": {
        "id": "MjHcJC7QcwtK",
        "colab_type": "code",
        "colab": {
          "base_uri": "https://localhost:8080/",
          "height": 417
        },
        "outputId": "a6346fc6-166b-4931-a735-4c50ca329eea"
      },
      "source": [
        "# Datasets can also be used for validation:\n",
        "\n",
        "val_data = np.random.random((100, 32))\n",
        "val_labels = np.random.random((100, 10))\n",
        "\n",
        "val_dataset = tf.data.Dataset.from_tensor_slices((val_data, val_labels))\n",
        "val_dataset = val_dataset.batch(32)\n",
        "\n",
        "model.fit(dataset, epochs=10,\n",
        "          validation_data=val_dataset)\n"
      ],
      "execution_count": 10,
      "outputs": [
        {
          "output_type": "stream",
          "text": [
            "Train for 32 steps, validate for 4 steps\n",
            "Epoch 1/10\n",
            "32/32 [==============================] - 0s 5ms/step - loss: 198601.9387 - accuracy: 0.1010 - val_loss: 106010.3691 - val_accuracy: 0.0900\n",
            "Epoch 2/10\n",
            "32/32 [==============================] - 0s 2ms/step - loss: 177512.2820 - accuracy: 0.1040 - val_loss: 167442.8477 - val_accuracy: 0.1000\n",
            "Epoch 3/10\n",
            "32/32 [==============================] - 0s 3ms/step - loss: 222831.1255 - accuracy: 0.0980 - val_loss: 233589.3047 - val_accuracy: 0.1000\n",
            "Epoch 4/10\n",
            "32/32 [==============================] - 0s 2ms/step - loss: 225529.7903 - accuracy: 0.1020 - val_loss: 200627.6211 - val_accuracy: 0.1200\n",
            "Epoch 5/10\n",
            "32/32 [==============================] - 0s 2ms/step - loss: 245084.8580 - accuracy: 0.1000 - val_loss: 278834.1953 - val_accuracy: 0.1000\n",
            "Epoch 6/10\n",
            "32/32 [==============================] - 0s 2ms/step - loss: 283877.8372 - accuracy: 0.1010 - val_loss: 189319.0898 - val_accuracy: 0.1000\n",
            "Epoch 7/10\n",
            "32/32 [==============================] - 0s 2ms/step - loss: 264046.5859 - accuracy: 0.1120 - val_loss: 412559.9766 - val_accuracy: 0.0700\n",
            "Epoch 8/10\n",
            "32/32 [==============================] - 0s 3ms/step - loss: 423415.7680 - accuracy: 0.1000 - val_loss: 351146.7891 - val_accuracy: 0.0600\n",
            "Epoch 9/10\n",
            "32/32 [==============================] - 0s 2ms/step - loss: 343772.5807 - accuracy: 0.1050 - val_loss: 345738.6172 - val_accuracy: 0.1000\n",
            "Epoch 10/10\n",
            "32/32 [==============================] - 0s 2ms/step - loss: 361815.6821 - accuracy: 0.1100 - val_loss: 281564.3672 - val_accuracy: 0.0600\n"
          ],
          "name": "stdout"
        },
        {
          "output_type": "execute_result",
          "data": {
            "text/plain": [
              "<tensorflow.python.keras.callbacks.History at 0x7f206dd92940>"
            ]
          },
          "metadata": {
            "tags": []
          },
          "execution_count": 10
        }
      ]
    },
    {
      "cell_type": "markdown",
      "metadata": {
        "id": "0X5Isx7KeEaL",
        "colab_type": "text"
      },
      "source": [
        "Evaluate and predict"
      ]
    },
    {
      "cell_type": "code",
      "metadata": {
        "id": "JjI_cBUtdnl1",
        "colab_type": "code",
        "colab": {
          "base_uri": "https://localhost:8080/",
          "height": 53
        },
        "outputId": "5e567f72-eabe-4602-e850-be670c2e5472"
      },
      "source": [
        "#The tf.keras.Model.evaluate (https://www.tensorflow.org/api_docs/python/tf/keras/Model#evaluate)\n",
        "# and tf.keras.Model.predict methods (https://www.tensorflow.org/api_docs/python/tf/keras/Model#predict)\n",
        "#can use NumPy data:\n",
        "\n",
        "model.evaluate(data, labels, batch_size=32)"
      ],
      "execution_count": 13,
      "outputs": [
        {
          "output_type": "stream",
          "text": [
            "1000/1000 [==============================] - 0s 33us/sample - loss: 282254.7690 - accuracy: 0.0940\n"
          ],
          "name": "stdout"
        },
        {
          "output_type": "execute_result",
          "data": {
            "text/plain": [
              "[282254.769, 0.094]"
            ]
          },
          "metadata": {
            "tags": []
          },
          "execution_count": 13
        }
      ]
    },
    {
      "cell_type": "code",
      "metadata": {
        "id": "bvjVhKRSefcG",
        "colab_type": "code",
        "colab": {
          "base_uri": "https://localhost:8080/",
          "height": 53
        },
        "outputId": "42929686-811d-4881-ac7a-cb14d6e1e3d1"
      },
      "source": [
        "# and a tf.data.Dataset:\n",
        "\n",
        "model.evaluate(dataset)"
      ],
      "execution_count": 12,
      "outputs": [
        {
          "output_type": "stream",
          "text": [
            "32/32 [==============================] - 0s 1ms/step - loss: 283073.7012 - accuracy: 0.0940\n"
          ],
          "name": "stdout"
        },
        {
          "output_type": "execute_result",
          "data": {
            "text/plain": [
              "[283073.701171875, 0.094]"
            ]
          },
          "metadata": {
            "tags": []
          },
          "execution_count": 12
        }
      ]
    },
    {
      "cell_type": "code",
      "metadata": {
        "id": "FuW5KTE7el9b",
        "colab_type": "code",
        "colab": {
          "base_uri": "https://localhost:8080/",
          "height": 35
        },
        "outputId": "ef18dc77-d0d7-4699-f5d1-3a6a57b72b77"
      },
      "source": [
        "#And here's how to predict the output of the last layer in inference for the data provided, as a NumPy array:\n",
        "\n",
        "result = model.predict(data, batch_size=32)\n",
        "print(result.shape)"
      ],
      "execution_count": 14,
      "outputs": [
        {
          "output_type": "stream",
          "text": [
            "(1000, 10)\n"
          ],
          "name": "stdout"
        }
      ]
    },
    {
      "cell_type": "code",
      "metadata": {
        "id": "XsaIVa3ae7gu",
        "colab_type": "code",
        "colab": {
          "base_uri": "https://localhost:8080/",
          "height": 53
        },
        "outputId": "29558ec8-2874-42be-8851-fc1894ba4b71"
      },
      "source": [
        "print(result[9])"
      ],
      "execution_count": 17,
      "outputs": [
        {
          "output_type": "stream",
          "text": [
            "[1.4853466e+08 1.4856893e+08 1.4853523e+08 1.4856362e+08 1.4854290e+08\n",
            " 1.4844080e+08 1.4852382e+08 1.4854930e+08 1.4850939e+08 1.4840517e+08]\n"
          ],
          "name": "stdout"
        }
      ]
    },
    {
      "cell_type": "code",
      "metadata": {
        "id": "Gc21Vr9FfAvZ",
        "colab_type": "code",
        "colab": {}
      },
      "source": [
        ""
      ],
      "execution_count": 0,
      "outputs": []
    }
  ]
}