{
  "nbformat": 4,
  "nbformat_minor": 0,
  "metadata": {
    "colab": {
      "name": "Untitled4.ipynb",
      "provenance": [],
      "authorship_tag": "ABX9TyNXG/f3cf0exZAM6LjBExDL",
      "include_colab_link": true
    },
    "kernelspec": {
      "name": "python3",
      "display_name": "Python 3"
    }
  },
  "cells": [
    {
      "cell_type": "markdown",
      "metadata": {
        "id": "view-in-github",
        "colab_type": "text"
      },
      "source": [
        "<a href=\"https://colab.research.google.com/github/Toni-Navarro/deep-learning/blob/master/Keras/Train%20and%20Evaluate.ipynb\" target=\"_parent\"><img src=\"https://colab.research.google.com/assets/colab-badge.svg\" alt=\"Open In Colab\"/></a>"
      ]
    },
    {
      "cell_type": "markdown",
      "metadata": {
        "id": "cb80B33oHtiP",
        "colab_type": "text"
      },
      "source": [
        "#Train and evaluate"
      ]
    },
    {
      "cell_type": "code",
      "metadata": {
        "id": "fkjCdZVfHyPW",
        "colab_type": "code",
        "outputId": "63e8afc5-0eee-4853-e46d-c5fd8c1a8b81",
        "colab": {
          "base_uri": "https://localhost:8080/",
          "height": 35
        }
      },
      "source": [
        "%tensorflow_version 2.x"
      ],
      "execution_count": 3,
      "outputs": [
        {
          "output_type": "stream",
          "text": [
            "TensorFlow 2.x selected.\n"
          ],
          "name": "stdout"
        }
      ]
    },
    {
      "cell_type": "code",
      "metadata": {
        "id": "sEraRFdbIGNw",
        "colab_type": "code",
        "colab": {}
      },
      "source": [
        "import numpy as np\n",
        "import tensorflow as tf\n",
        "from tensorflow import keras\n",
        "from tensorflow.keras import layers\n",
        "from tensorflow.keras import optimizers\n",
        "from tensorflow.keras import losses"
      ],
      "execution_count": 0,
      "outputs": []
    },
    {
      "cell_type": "markdown",
      "metadata": {
        "id": "b5PQVmACJtzu",
        "colab_type": "text"
      },
      "source": [
        "Let's build a simple model which will be trained with MNIST dataset"
      ]
    },
    {
      "cell_type": "code",
      "metadata": {
        "id": "XflnTnslISQ7",
        "colab_type": "code",
        "colab": {}
      },
      "source": [
        "inputs = keras.Input(shape=(784,), name='digits')\n",
        "x = layers.Dense(64, activation='relu', name='dense_1')(inputs)\n",
        "x = layers.Dense(64, activation='relu', name='dense_2')(x)\n",
        "outputs = layers.Dense(10, name='predictions')(x)\n",
        "\n",
        "model = keras.Model(inputs=inputs, outputs=outputs)"
      ],
      "execution_count": 0,
      "outputs": []
    },
    {
      "cell_type": "markdown",
      "metadata": {
        "id": "kZD_5oR5KQQC",
        "colab_type": "text"
      },
      "source": [
        "Let's load the data"
      ]
    },
    {
      "cell_type": "code",
      "metadata": {
        "id": "hVdiMUcwKBhP",
        "colab_type": "code",
        "colab": {}
      },
      "source": [
        "(x_train, y_train), (x_test, y_test) = keras.datasets.mnist.load_data()\n",
        "\n",
        "# Preprocess the data (these are Numpy arrays)\n",
        "x_train = x_train.reshape(60000, 784).astype('float32') / 255\n",
        "x_test = x_test.reshape(10000, 784).astype('float32') / 255\n",
        "\n",
        "y_train = y_train.astype('float32')\n",
        "y_test = y_test.astype('float32')\n",
        "\n",
        "# Reserve 10,000 samples for validation\n",
        "x_val = x_train[-10000:]\n",
        "y_val = y_train[-10000:]\n",
        "x_train = x_train[:-10000]\n",
        "y_train = y_train[:-10000]"
      ],
      "execution_count": 0,
      "outputs": []
    },
    {
      "cell_type": "markdown",
      "metadata": {
        "id": "9Lu1IjOxLDIh",
        "colab_type": "text"
      },
      "source": [
        "In training process, there are two mandatory arguments, optimizer and loss function"
      ]
    },
    {
      "cell_type": "code",
      "metadata": {
        "id": "XRAgA0PcKkiB",
        "colab_type": "code",
        "colab": {}
      },
      "source": [
        "# pass optimizer by name: default parameters will be used\n",
        "model.compile(loss='mean_squared_error', optimizer='sgd')\n",
        "\n",
        "#or\n",
        "\n",
        "sgd = optimizers.SGD(lr=0.01, decay=1e-6, momentum=0.9, nesterov=True)\n",
        "model.compile(loss='mean_squared_error', optimizer=sgd)"
      ],
      "execution_count": 0,
      "outputs": []
    },
    {
      "cell_type": "markdown",
      "metadata": {
        "id": "e7R2tD5yOIRa",
        "colab_type": "text"
      },
      "source": [
        "## [Keras optimizers](https://keras.io/optimizers/)"
      ]
    },
    {
      "cell_type": "markdown",
      "metadata": {
        "id": "M6TrAfJoO_dW",
        "colab_type": "text"
      },
      "source": [
        "The parameters clipnorm and clipvalue can be used with all optimizers to control [gradient clipping](https://deepai.org/machine-learning-glossary-and-terms/gradient-clipping)"
      ]
    },
    {
      "cell_type": "markdown",
      "metadata": {
        "id": "S457o4WeeDem",
        "colab_type": "text"
      },
      "source": [
        "### Base class"
      ]
    },
    {
      "cell_type": "code",
      "metadata": {
        "id": "QYDY40IxL1sY",
        "colab_type": "code",
        "colab": {}
      },
      "source": [
        "#this is base class for building optimizers, not an actual optimizer that can be used for training models.\n",
        "\n",
        "#keras.optimizers.Optimizer(**kwargs)"
      ],
      "execution_count": 0,
      "outputs": []
    },
    {
      "cell_type": "markdown",
      "metadata": {
        "id": "kwvrHMx6eUGp",
        "colab_type": "text"
      },
      "source": [
        "### [SGD](https://www.tensorflow.org/api_docs/python/tf/keras/optimizers/SGD) Stochastic gradient descent "
      ]
    },
    {
      "cell_type": "code",
      "metadata": {
        "id": "xPIc35egeO1u",
        "colab_type": "code",
        "colab": {}
      },
      "source": [
        "keras.optimizers.SGD(lr=0.01, momentum=0., decay=0., nesterov=False)"
      ],
      "execution_count": 0,
      "outputs": []
    },
    {
      "cell_type": "markdown",
      "metadata": {
        "id": "ssSg4Sh3fLNY",
        "colab_type": "text"
      },
      "source": [
        "###[Adagrad](https://www.tensorflow.org/api_docs/python/tf/keras/optimizers/Adagrad)"
      ]
    },
    {
      "cell_type": "code",
      "metadata": {
        "id": "889sq-0Lilid",
        "colab_type": "code",
        "colab": {}
      },
      "source": [
        "keras.optimizers.Adagrad(lr=0.01, epsilon=1e-08, decay=0.0)"
      ],
      "execution_count": 0,
      "outputs": []
    },
    {
      "cell_type": "markdown",
      "metadata": {
        "id": "W_qOzBzxiDZL",
        "colab_type": "text"
      },
      "source": [
        "###[Adadelta](https://www.tensorflow.org/api_docs/python/tf/keras/optimizers/Adadelta)"
      ]
    },
    {
      "cell_type": "code",
      "metadata": {
        "id": "F5fFh-IHimD8",
        "colab_type": "code",
        "colab": {}
      },
      "source": [
        "keras.optimizers.Adadelta(lr=1.0, rho=0.95, epsilon=1e-08, decay=0.0)"
      ],
      "execution_count": 0,
      "outputs": []
    },
    {
      "cell_type": "markdown",
      "metadata": {
        "id": "e3sDj9EPiDd5",
        "colab_type": "text"
      },
      "source": [
        "###[Adam](https://www.tensorflow.org/api_docs/python/tf/keras/optimizers/Adam)"
      ]
    },
    {
      "cell_type": "code",
      "metadata": {
        "id": "_8XLv3IsimoI",
        "colab_type": "code",
        "colab": {}
      },
      "source": [
        "keras.optimizers.Adam(lr=0.001, beta_1=0.9, beta_2=0.999, epsilon=1e-08, decay=0.0)"
      ],
      "execution_count": 0,
      "outputs": []
    },
    {
      "cell_type": "markdown",
      "metadata": {
        "id": "g5gWKVHDiDmv",
        "colab_type": "text"
      },
      "source": [
        "###[Adamax](https://www.tensorflow.org/api_docs/python/tf/keras/optimizers/Adamax)"
      ]
    },
    {
      "cell_type": "code",
      "metadata": {
        "id": "hQa0PxwiinLy",
        "colab_type": "code",
        "colab": {}
      },
      "source": [
        "keras.optimizers.Adamax(lr=0.002, beta_1=0.9, beta_2=0.999, epsilon=1e-08, decay=0.0)"
      ],
      "execution_count": 0,
      "outputs": []
    },
    {
      "cell_type": "markdown",
      "metadata": {
        "id": "OTdV6YkniDrz",
        "colab_type": "text"
      },
      "source": [
        "###[Ftrl](https://www.tensorflow.org/api_docs/python/tf/keras/optimizers/Ftrl)"
      ]
    },
    {
      "cell_type": "code",
      "metadata": {
        "id": "Yw14K1kvioAe",
        "colab_type": "code",
        "colab": {}
      },
      "source": [
        "tf.keras.optimizers.Ftrl(\n",
        "    learning_rate=0.001, learning_rate_power=-0.5, initial_accumulator_value=0.1,\n",
        "    l1_regularization_strength=0.0, l2_regularization_strength=0.0, name='Ftrl',\n",
        "    l2_shrinkage_regularization_strength=0.0, **kwargs\n",
        ")"
      ],
      "execution_count": 0,
      "outputs": []
    },
    {
      "cell_type": "markdown",
      "metadata": {
        "id": "YkGMqEQMiDwv",
        "colab_type": "text"
      },
      "source": [
        "###[Nadam](https://www.tensorflow.org/api_docs/python/tf/keras/optimizers/Nadam)"
      ]
    },
    {
      "cell_type": "code",
      "metadata": {
        "id": "CClGUBLWiopV",
        "colab_type": "code",
        "colab": {}
      },
      "source": [
        "keras.optimizers.Nadam(lr=0.002, beta_1=0.9, beta_2=0.999, epsilon=1e-08, schedule_decay=0.004)"
      ],
      "execution_count": 0,
      "outputs": []
    },
    {
      "cell_type": "markdown",
      "metadata": {
        "id": "fzbuMrQ4iV6l",
        "colab_type": "text"
      },
      "source": [
        "###[RMSprop](https://www.tensorflow.org/api_docs/python/tf/keras/optimizers/RMSprop)"
      ]
    },
    {
      "cell_type": "code",
      "metadata": {
        "id": "pANS_RVlip7a",
        "colab_type": "code",
        "colab": {}
      },
      "source": [
        "keras.optimizers.RMSprop(lr=0.001, rho=0.9, epsilon=1e-08, decay=0.0)"
      ],
      "execution_count": 0,
      "outputs": []
    },
    {
      "cell_type": "markdown",
      "metadata": {
        "id": "i6W2Xmoyl2Lu",
        "colab_type": "text"
      },
      "source": [
        "## [Loss functions](http://faroit.com/keras-docs/2.0.5/losses/)"
      ]
    },
    {
      "cell_type": "code",
      "metadata": {
        "id": "37pzP22Tl4rP",
        "colab_type": "code",
        "colab": {}
      },
      "source": [
        "#mean_squared_error\n",
        "keras.losses.mean_squared_error(y_true, y_pred)"
      ],
      "execution_count": 0,
      "outputs": []
    },
    {
      "cell_type": "code",
      "metadata": {
        "id": "NKy60Nu_3fHt",
        "colab_type": "code",
        "colab": {}
      },
      "source": [
        "#mean_absolute_error\n",
        "keras.losses.mean_absolute_error(y_true, y_pred)"
      ],
      "execution_count": 0,
      "outputs": []
    },
    {
      "cell_type": "code",
      "metadata": {
        "id": "iNuzaGW13kHA",
        "colab_type": "code",
        "colab": {}
      },
      "source": [
        "#mean_absolute_percentage_error\n",
        "keras.losses.mean_squared_logarithmic_error(y_true, y_pred)"
      ],
      "execution_count": 0,
      "outputs": []
    },
    {
      "cell_type": "code",
      "metadata": {
        "id": "4iWbWIU546hJ",
        "colab_type": "code",
        "colab": {}
      },
      "source": [
        "#mean_squared_logarithmic_error\n",
        "mean_squared_logarithmic_error(y_true, y_pred)"
      ],
      "execution_count": 0,
      "outputs": []
    },
    {
      "cell_type": "code",
      "metadata": {
        "id": "N6Ot747H3kYM",
        "colab_type": "code",
        "colab": {}
      },
      "source": [
        "#squared_hinge\n",
        "keras.losses.squared_hinge(y_true, y_pred)"
      ],
      "execution_count": 0,
      "outputs": []
    },
    {
      "cell_type": "code",
      "metadata": {
        "id": "g2rDJSBg3kdz",
        "colab_type": "code",
        "colab": {}
      },
      "source": [
        "#hinge\n",
        "keras.losses.hinge(y_true, y_pred)"
      ],
      "execution_count": 0,
      "outputs": []
    },
    {
      "cell_type": "code",
      "metadata": {
        "id": "NuMGILE63ki4",
        "colab_type": "code",
        "colab": {}
      },
      "source": [
        "#categorical_hinge\n",
        "keras.losses.categorical_hinge(y_true, y_pred)"
      ],
      "execution_count": 0,
      "outputs": []
    },
    {
      "cell_type": "code",
      "metadata": {
        "id": "eZtb_Lga30D7",
        "colab_type": "code",
        "colab": {}
      },
      "source": [
        "#logcosh\n",
        "keras.losses.logcosh(y_true, y_pred)\n",
        "\n",
        "#log(cosh(x)) is approximately equal to (x ** 2) / 2 for small x and to abs(x) - log(2) for large x. \n",
        "#This means that 'logcosh' works mostly like the mean squared error, \n",
        "#but will not be so strongly affected by the occasional wildly incorrect prediction."
      ],
      "execution_count": 0,
      "outputs": []
    },
    {
      "cell_type": "code",
      "metadata": {
        "id": "DIzpoKY-30et",
        "colab_type": "code",
        "colab": {}
      },
      "source": [
        "#categorical_crossentropy\n",
        "categorical_crossentropy(y_true, y_pred)\n",
        "\n",
        "#Note: when using the categorical_crossentropy loss, your targets should be in categorical format \n",
        "#(e.g. if you have 10 classes, the target for each sample should be a 10-dimensional vector \n",
        "#that is all-zeros expect for a 1 at the index corresponding to the class of the sample). \n",
        "#In order to convert integer targets into categorical targets, you can use the Keras utility to_categorical:"
      ],
      "execution_count": 0,
      "outputs": []
    },
    {
      "cell_type": "code",
      "metadata": {
        "id": "HqlWMrGM30io",
        "colab_type": "code",
        "colab": {}
      },
      "source": [
        "#sparse_categorical_crossentropy\n",
        "sparse_categorical_crossentropy(y_true, y_pred)"
      ],
      "execution_count": 0,
      "outputs": []
    },
    {
      "cell_type": "code",
      "metadata": {
        "id": "zsaPklao5KeE",
        "colab_type": "code",
        "colab": {}
      },
      "source": [
        "#binary_crossentropy\n",
        "binary_crossentropy(y_true, y_pred)"
      ],
      "execution_count": 0,
      "outputs": []
    },
    {
      "cell_type": "code",
      "metadata": {
        "id": "sYbY0-mO5LCh",
        "colab_type": "code",
        "colab": {}
      },
      "source": [
        "#kullback_leibler_divergence\n",
        "kullback_leibler_divergence(y_true, y_pred)"
      ],
      "execution_count": 0,
      "outputs": []
    },
    {
      "cell_type": "code",
      "metadata": {
        "id": "W6_EoVYa7-x0",
        "colab_type": "code",
        "colab": {}
      },
      "source": [
        "#poisson\n",
        "poisson(y_true, y_pred)"
      ],
      "execution_count": 0,
      "outputs": []
    },
    {
      "cell_type": "code",
      "metadata": {
        "id": "UfKchoaV8CiT",
        "colab_type": "code",
        "colab": {}
      },
      "source": [
        "#cosine_proximity\n",
        "cosine_proximity(y_true, y_pred)"
      ],
      "execution_count": 0,
      "outputs": []
    },
    {
      "cell_type": "markdown",
      "metadata": {
        "id": "Yq17Jcwf-6CA",
        "colab_type": "text"
      },
      "source": [
        "## [Metrics](http://faroit.com/keras-docs/2.0.5/metrics/)"
      ]
    },
    {
      "cell_type": "markdown",
      "metadata": {
        "id": "u3oAZY5c_JnU",
        "colab_type": "text"
      },
      "source": [
        "A metric is a function that is used to judge the performance of your model. Metric functions are to be supplied in the metrics parameter when a model is compiled.\n",
        "A metric function is similar to an loss function, except that the results from evaluating a metric are not used when training the model."
      ]
    },
    {
      "cell_type": "code",
      "metadata": {
        "id": "4QJAdin8_El0",
        "colab_type": "code",
        "colab": {}
      },
      "source": [
        "#binary_accuracy\n",
        "binary_accuracy(y_true, y_pred)"
      ],
      "execution_count": 0,
      "outputs": []
    },
    {
      "cell_type": "code",
      "metadata": {
        "id": "nrnb_IdW_VWR",
        "colab_type": "code",
        "colab": {}
      },
      "source": [
        "#categorical_accuracy\n",
        "categorical_accuracy(y_true, y_pred)"
      ],
      "execution_count": 0,
      "outputs": []
    },
    {
      "cell_type": "code",
      "metadata": {
        "id": "bdpCLxt9_Vhr",
        "colab_type": "code",
        "colab": {}
      },
      "source": [
        "#sparse_categorical_accuracy\n",
        "sparse_categorical_accuracy(y_true, y_pred)"
      ],
      "execution_count": 0,
      "outputs": []
    },
    {
      "cell_type": "code",
      "metadata": {
        "id": "JTeHulII_Vrc",
        "colab_type": "code",
        "colab": {}
      },
      "source": [
        "#top_k_categorical_accuracy\n",
        "top_k_categorical_accuracy(y_true, y_pred, k=5)"
      ],
      "execution_count": 0,
      "outputs": []
    },
    {
      "cell_type": "code",
      "metadata": {
        "id": "io6ENGoG_V0y",
        "colab_type": "code",
        "colab": {}
      },
      "source": [
        "#Custom metrics\n",
        "\n",
        "#Custom metrics can be passed at the compilation step. The function would need to take (y_true, y_pred) as arguments and return a single tensor value.\n",
        "\n",
        "import keras.backend as K\n",
        "\n",
        "def mean_pred(y_true, y_pred):\n",
        "    return K.mean(y_pred)\n",
        "\n",
        "model.compile(optimizer='rmsprop',\n",
        "              loss='binary_crossentropy',\n",
        "              metrics=['accuracy', mean_pred])"
      ],
      "execution_count": 0,
      "outputs": []
    },
    {
      "cell_type": "markdown",
      "metadata": {
        "id": "G7Vxb2pz_tjt",
        "colab_type": "text"
      },
      "source": [
        "## Training process"
      ]
    },
    {
      "cell_type": "code",
      "metadata": {
        "id": "xkrQ14_5ABEf",
        "colab_type": "code",
        "colab": {}
      },
      "source": [
        "#Specify the training configuration (optimizer, loss, metrics)\n",
        "\n",
        "model.compile(optimizer=keras.optimizers.RMSprop(),  # Optimizer\n",
        "              # Loss function to minimize\n",
        "              loss=keras.losses.SparseCategoricalCrossentropy(from_logits=True),\n",
        "              # List of metrics to monitor\n",
        "              metrics=['sparse_categorical_accuracy'])"
      ],
      "execution_count": 0,
      "outputs": []
    },
    {
      "cell_type": "code",
      "metadata": {
        "id": "fLSKMWq5ARFK",
        "colab_type": "code",
        "colab": {
          "base_uri": "https://localhost:8080/",
          "height": 219
        },
        "outputId": "ca8e5ca0-f1bb-4c41-9d61-d275711a82da"
      },
      "source": [
        "#Train the model by slicing the data into \"batches\" of size \"batch_size\",\n",
        "#and repeatedly iterating over the entire dataset for a given number of \"epochs\"\n",
        "\n",
        "print('# Fit model on training data')\n",
        "history = model.fit(x_train, y_train,\n",
        "                    batch_size=64,\n",
        "                    epochs=3,\n",
        "                    # We pass some validation for\n",
        "                    # monitoring validation loss and metrics\n",
        "                    # at the end of each epoch\n",
        "                    validation_data=(x_val, y_val))\n",
        "\n",
        "print('\\nhistory dict:', history.history)"
      ],
      "execution_count": 8,
      "outputs": [
        {
          "output_type": "stream",
          "text": [
            "# Fit model on training data\n",
            "Train on 50000 samples, validate on 10000 samples\n",
            "Epoch 1/3\n",
            "50000/50000 [==============================] - 3s 58us/sample - loss: 0.3298 - sparse_categorical_accuracy: 0.9077 - val_loss: 0.2100 - val_sparse_categorical_accuracy: 0.9393\n",
            "Epoch 2/3\n",
            "50000/50000 [==============================] - 2s 48us/sample - loss: 0.1569 - sparse_categorical_accuracy: 0.9535 - val_loss: 0.1418 - val_sparse_categorical_accuracy: 0.9609\n",
            "Epoch 3/3\n",
            "50000/50000 [==============================] - 2s 48us/sample - loss: 0.1153 - sparse_categorical_accuracy: 0.9656 - val_loss: 0.1117 - val_sparse_categorical_accuracy: 0.9681\n",
            "\n",
            "history dict: {'loss': [0.3298180997776985, 0.15687856449246407, 0.11534494979798794], 'sparse_categorical_accuracy': [0.90768, 0.95346, 0.96558], 'val_loss': [0.2099911789894104, 0.14184427043050526, 0.1117049465239048], 'val_sparse_categorical_accuracy': [0.9393, 0.9609, 0.9681]}\n"
          ],
          "name": "stdout"
        }
      ]
    },
    {
      "cell_type": "code",
      "metadata": {
        "id": "luzIaecdAeAs",
        "colab_type": "code",
        "colab": {
          "base_uri": "https://localhost:8080/",
          "height": 90
        },
        "outputId": "e0fa0c50-401b-4b99-9837-60a654265a01"
      },
      "source": [
        "# Evaluate the model on the test data using `evaluate`\n",
        "print('\\n# Evaluate on test data')\n",
        "results = model.evaluate(x_test, y_test, batch_size=128)\n",
        "print('test loss, test acc:', results)"
      ],
      "execution_count": 9,
      "outputs": [
        {
          "output_type": "stream",
          "text": [
            "\n",
            "# Evaluate on test data\n",
            "10000/10000 [==============================] - 0s 13us/sample - loss: 0.1094 - sparse_categorical_accuracy: 0.9657\n",
            "test loss, test acc: [0.10941215894818306, 0.9657]\n"
          ],
          "name": "stdout"
        }
      ]
    },
    {
      "cell_type": "code",
      "metadata": {
        "id": "fG3vntJFA1S0",
        "colab_type": "code",
        "colab": {
          "base_uri": "https://localhost:8080/",
          "height": 72
        },
        "outputId": "41df8544-8fee-4659-d679-6647a1aae88e"
      },
      "source": [
        "# Generate predictions (probabilities -- the output of the last layer)\n",
        "# on new data using `predict`\n",
        "print('\\n# Generate predictions for 3 samples')\n",
        "predictions = model.predict(x_test[:3])\n",
        "print('predictions shape:', predictions.shape)"
      ],
      "execution_count": 10,
      "outputs": [
        {
          "output_type": "stream",
          "text": [
            "\n",
            "# Generate predictions for 3 samples\n",
            "predictions shape: (3, 10)\n"
          ],
          "name": "stdout"
        }
      ]
    },
    {
      "cell_type": "code",
      "metadata": {
        "id": "y7NULiKeA6-3",
        "colab_type": "code",
        "colab": {
          "base_uri": "https://localhost:8080/",
          "height": 126
        },
        "outputId": "08789bba-aac0-4667-939b-fa574c1b5490"
      },
      "source": [
        "print(predictions)"
      ],
      "execution_count": 11,
      "outputs": [
        {
          "output_type": "stream",
          "text": [
            "[[ -3.4216528  -9.221339   -2.2195168  -1.696523  -11.821804   -3.8746653\n",
            "  -15.412098    8.597394   -4.5410852  -2.1572285]\n",
            " [-11.423707   -2.8596866   8.363127   -3.1735256 -20.807539   -7.559353\n",
            "   -9.677645  -18.588085   -5.8435307 -21.758343 ]\n",
            " [ -8.393426    4.232292   -3.068518   -3.7088594  -3.4746392  -4.9324656\n",
            "   -4.3015184  -1.4798787  -2.0609794  -4.4231043]]\n"
          ],
          "name": "stdout"
        }
      ]
    },
    {
      "cell_type": "markdown",
      "metadata": {
        "id": "ndQB25HwBkfw",
        "colab_type": "text"
      },
      "source": [
        "For later reuse, let's put our model definition and compile step in functions"
      ]
    },
    {
      "cell_type": "code",
      "metadata": {
        "id": "-yBpGFx4BInE",
        "colab_type": "code",
        "colab": {}
      },
      "source": [
        "def get_uncompiled_model():\n",
        "  inputs = keras.Input(shape=(784,), name='digits')\n",
        "  x = layers.Dense(64, activation='relu', name='dense_1')(inputs)\n",
        "  x = layers.Dense(64, activation='relu', name='dense_2')(x)\n",
        "  outputs = layers.Dense(10, name='predictions')(x)\n",
        "  model = keras.Model(inputs=inputs, outputs=outputs)\n",
        "  return model\n",
        "\n",
        "def get_compiled_model():\n",
        "  model = get_uncompiled_model()\n",
        "  model.compile(optimizer=keras.optimizers.RMSprop(learning_rate=1e-3),\n",
        "                loss=keras.losses.SparseCategoricalCrossentropy(from_logits=True),\n",
        "                metrics=['sparse_categorical_accuracy'])\n",
        "  return model"
      ],
      "execution_count": 0,
      "outputs": []
    },
    {
      "cell_type": "code",
      "metadata": {
        "id": "rANO1nNBBvWK",
        "colab_type": "code",
        "colab": {}
      },
      "source": [
        ""
      ],
      "execution_count": 0,
      "outputs": []
    }
  ]
}